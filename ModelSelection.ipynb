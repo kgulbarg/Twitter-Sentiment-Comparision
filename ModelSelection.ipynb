{
 "cells": [
  {
   "cell_type": "code",
   "execution_count": 1,
   "metadata": {},
   "outputs": [],
   "source": [
    "import joblib\n",
    "preprocessed_data = joblib.load('preprocessed_data.sav')"
   ]
  },
  {
   "cell_type": "code",
   "execution_count": 2,
   "metadata": {},
   "outputs": [],
   "source": [
    "preprocced_targets = joblib.load('preprocessed_targets.sav')"
   ]
  },
  {
   "cell_type": "code",
   "execution_count": 3,
   "metadata": {},
   "outputs": [],
   "source": [
    "from sklearn.model_selection import train_test_split\n",
    "data_train, data_test, targets_train, targets_test = train_test_split(preprocessed_data, preprocced_targets, test_size=0.2, random_state=0)\n",
    "data_train_index = data_train[:,0]\n",
    "data_train = data_train[:,1:]\n",
    "data_test_index = data_test[:,0]\n",
    "data_test = data_test[:,1:]"
   ]
  },
  {
   "cell_type": "code",
   "execution_count": 5,
   "metadata": {},
   "outputs": [],
   "source": [
    "import pandas as pd\n",
    "models = pd.DataFrame()"
   ]
  },
  {
   "cell_type": "code",
   "execution_count": 6,
   "metadata": {},
   "outputs": [],
   "source": [
    "lmod = ['Multinomial Naïve Bayes','SVC with Linear Kernel','SVC with RBF Kernel','Gradient Boosting Classifier','Random Forest Classifier']"
   ]
  },
  {
   "cell_type": "code",
   "execution_count": 22,
   "metadata": {},
   "outputs": [],
   "source": [
    "lac = []\n",
    "lpr = []\n",
    "lrc = []"
   ]
  },
  {
   "cell_type": "code",
   "execution_count": 23,
   "metadata": {},
   "outputs": [],
   "source": [
    "from sklearn import metrics\n",
    "from sklearn.model_selection import GridSearchCV"
   ]
  },
  {
   "cell_type": "code",
   "execution_count": 24,
   "metadata": {},
   "outputs": [
    {
     "data": {
      "text/plain": [
       "{'alpha': 1.0, 'class_prior': None, 'fit_prior': True}"
      ]
     },
     "execution_count": 24,
     "metadata": {},
     "output_type": "execute_result"
    }
   ],
   "source": [
    "from sklearn.naive_bayes import MultinomialNB\n",
    "clf1 = MultinomialNB()\n",
    "clf1.get_params()"
   ]
  },
  {
   "cell_type": "code",
   "execution_count": 25,
   "metadata": {},
   "outputs": [
    {
     "data": {
      "text/plain": [
       "MultinomialNB(alpha=1.0, class_prior=None, fit_prior=True)"
      ]
     },
     "execution_count": 25,
     "metadata": {},
     "output_type": "execute_result"
    }
   ],
   "source": [
    "clf1.fit(data_train, targets_train)"
   ]
  },
  {
   "cell_type": "code",
   "execution_count": 27,
   "metadata": {},
   "outputs": [
    {
     "name": "stdout",
     "output_type": "stream",
     "text": [
      "Accuracy: 0.6772406847935549\n",
      "Precision: 0.6474108343714159\n",
      "Recall: 0.6163809294870347\n"
     ]
    }
   ],
   "source": [
    "targets_pred = clf1.predict(data_test)\n",
    "ac = metrics.accuracy_score(targets_test, targets_pred)\n",
    "print(\"Accuracy:\",ac)\n",
    "lac.append(ac)\n",
    "pr = metrics.precision_score(targets_test, targets_pred,average='macro')\n",
    "print(\"Precision:\",pr)\n",
    "lpr.append(pr)\n",
    "rc = metrics.recall_score(targets_test, targets_pred,average='macro')\n",
    "print(\"Recall:\",rc)\n",
    "lrc.append(rc)"
   ]
  },
  {
   "cell_type": "code",
   "execution_count": 28,
   "metadata": {},
   "outputs": [
    {
     "data": {
      "text/plain": [
       "OneVsRestClassifier(estimator=SVC(C=1.0, cache_size=200,\n",
       "                                  class_weight='balanced', coef0=0.0,\n",
       "                                  decision_function_shape='ovr', degree=3,\n",
       "                                  gamma='auto', kernel='linear', max_iter=-1,\n",
       "                                  probability=True, random_state=None,\n",
       "                                  shrinking=True, tol=0.001, verbose=False),\n",
       "                    n_jobs=None)"
      ]
     },
     "execution_count": 28,
     "metadata": {},
     "output_type": "execute_result"
    }
   ],
   "source": [
    "from sklearn import svm, metrics\n",
    "from sklearn.multiclass import OneVsRestClassifier\n",
    "clf4 = OneVsRestClassifier(svm.SVC(gamma='auto', C=1., probability=True, class_weight='balanced', kernel='linear'))\n",
    "clf4.fit(data_train, targets_train)"
   ]
  },
  {
   "cell_type": "code",
   "execution_count": 29,
   "metadata": {},
   "outputs": [
    {
     "name": "stdout",
     "output_type": "stream",
     "text": [
      "Accuracy: 0.6968781470292045\n",
      "Precision: 0.671432991719877\n",
      "Recall: 0.6514083976697607\n"
     ]
    }
   ],
   "source": [
    "targets_pred = clf4.predict(data_test)\n",
    "ac = metrics.accuracy_score(targets_test, targets_pred)\n",
    "print(\"Accuracy:\",ac)\n",
    "lac.append(ac)\n",
    "pr = metrics.precision_score(targets_test, targets_pred,average='macro')\n",
    "print(\"Precision:\",pr)\n",
    "lpr.append(pr)\n",
    "rc = metrics.recall_score(targets_test, targets_pred,average='macro')\n",
    "print(\"Recall:\",rc)\n",
    "lrc.append(rc)"
   ]
  },
  {
   "cell_type": "code",
   "execution_count": 30,
   "metadata": {},
   "outputs": [
    {
     "data": {
      "text/plain": [
       "OneVsRestClassifier(estimator=SVC(C=20, cache_size=200, class_weight='balanced',\n",
       "                                  coef0=0.0, decision_function_shape='ovr',\n",
       "                                  degree=3, gamma=0.1, kernel='rbf',\n",
       "                                  max_iter=-1, probability=True,\n",
       "                                  random_state=None, shrinking=True, tol=0.001,\n",
       "                                  verbose=False),\n",
       "                    n_jobs=None)"
      ]
     },
     "execution_count": 30,
     "metadata": {},
     "output_type": "execute_result"
    }
   ],
   "source": [
    "clf3 = OneVsRestClassifier(svm.SVC(gamma=0.1, C=20, probability=True, class_weight='balanced', kernel='rbf'))\n",
    "clf3.fit(data_train, targets_train)"
   ]
  },
  {
   "cell_type": "code",
   "execution_count": 31,
   "metadata": {},
   "outputs": [
    {
     "name": "stdout",
     "output_type": "stream",
     "text": [
      "Accuracy: 0.6576032225579054\n",
      "Precision: 0.6740387300173539\n",
      "Recall: 0.5310938563268094\n"
     ]
    }
   ],
   "source": [
    "targets_pred = clf3.predict(data_test)\n",
    "ac = metrics.accuracy_score(targets_test, targets_pred)\n",
    "print(\"Accuracy:\",ac)\n",
    "lac.append(ac)\n",
    "pr = metrics.precision_score(targets_test, targets_pred,average='macro')\n",
    "print(\"Precision:\",pr)\n",
    "lpr.append(pr)\n",
    "rc = metrics.recall_score(targets_test, targets_pred,average='macro')\n",
    "print(\"Recall:\",rc)\n",
    "lrc.append(rc)"
   ]
  },
  {
   "cell_type": "code",
   "execution_count": 32,
   "metadata": {},
   "outputs": [
    {
     "data": {
      "text/plain": [
       "[0.6772406847935549, 0.6968781470292045, 0.6576032225579054]"
      ]
     },
     "execution_count": 32,
     "metadata": {},
     "output_type": "execute_result"
    }
   ],
   "source": [
    "lac"
   ]
  },
  {
   "cell_type": "code",
   "execution_count": 33,
   "metadata": {},
   "outputs": [],
   "source": [
    "from sklearn.ensemble import GradientBoostingClassifier\n",
    "clf2 = GradientBoostingClassifier()\n",
    "#clf2.get_params()"
   ]
  },
  {
   "cell_type": "code",
   "execution_count": 34,
   "metadata": {},
   "outputs": [
    {
     "name": "stdout",
     "output_type": "stream",
     "text": [
      "Accuracy: 0.6802618328298087\n",
      "Precision: 0.7019910156025927\n",
      "Recall: 0.5819731409159796\n"
     ]
    }
   ],
   "source": [
    "clf2.fit(data_train, targets_train)\n",
    "targets_pred = clf2.predict(data_test)\n",
    "ac = metrics.accuracy_score(targets_test, targets_pred)\n",
    "print(\"Accuracy:\",ac)\n",
    "lac.append(ac)\n",
    "pr = metrics.precision_score(targets_test, targets_pred,average='macro')\n",
    "print(\"Precision:\",pr)\n",
    "lpr.append(pr)\n",
    "rc = metrics.recall_score(targets_test, targets_pred,average='macro')\n",
    "print(\"Recall:\",rc)\n",
    "lrc.append(rc)"
   ]
  },
  {
   "cell_type": "code",
   "execution_count": 35,
   "metadata": {},
   "outputs": [],
   "source": [
    "from sklearn.ensemble import RandomForestClassifier\n",
    "clf3 = RandomForestClassifier()"
   ]
  },
  {
   "cell_type": "code",
   "execution_count": 36,
   "metadata": {},
   "outputs": [
    {
     "name": "stderr",
     "output_type": "stream",
     "text": [
      "C:\\Users\\hp\\Anaconda3\\lib\\site-packages\\sklearn\\ensemble\\forest.py:245: FutureWarning: The default value of n_estimators will change from 10 in version 0.20 to 100 in 0.22.\n",
      "  \"10 in version 0.20 to 100 in 0.22.\", FutureWarning)\n"
     ]
    },
    {
     "name": "stdout",
     "output_type": "stream",
     "text": [
      "Accuracy: 0.6777442094662638\n",
      "Precision: 0.6841338001600311\n",
      "Recall: 0.5430572085867856\n"
     ]
    }
   ],
   "source": [
    "clf3.fit(data_train, targets_train)\n",
    "targets_pred = clf3.predict(data_test)\n",
    "ac = metrics.accuracy_score(targets_test, targets_pred)\n",
    "print(\"Accuracy:\",ac)\n",
    "lac.append(ac)\n",
    "pr = metrics.precision_score(targets_test, targets_pred,average='macro')\n",
    "print(\"Precision:\",pr)\n",
    "lpr.append(pr)\n",
    "rc = metrics.recall_score(targets_test, targets_pred,average='macro')\n",
    "print(\"Recall:\",rc)\n",
    "lrc.append(rc)"
   ]
  },
  {
   "cell_type": "code",
   "execution_count": null,
   "metadata": {},
   "outputs": [],
   "source": [
    "#print(\"Accuracy:\",metrics.accuracy_score(targets_test, targets_pred))\n",
    "#print(\"Precision:\",metrics.precision_score(targets_test, targets_pred,average='macro'))\n",
    "#print(\"Recall:\",metrics.recall_score(targets_test, targets_pred,average='macro'))"
   ]
  },
  {
   "cell_type": "code",
   "execution_count": 37,
   "metadata": {},
   "outputs": [],
   "source": [
    "models['Classifier']=lmod\n",
    "models['Accuracy']=lac\n",
    "models['Precision']=lpr\n",
    "models['Recall']=lrc"
   ]
  },
  {
   "cell_type": "code",
   "execution_count": 38,
   "metadata": {},
   "outputs": [
    {
     "data": {
      "text/html": [
       "<div>\n",
       "<style scoped>\n",
       "    .dataframe tbody tr th:only-of-type {\n",
       "        vertical-align: middle;\n",
       "    }\n",
       "\n",
       "    .dataframe tbody tr th {\n",
       "        vertical-align: top;\n",
       "    }\n",
       "\n",
       "    .dataframe thead th {\n",
       "        text-align: right;\n",
       "    }\n",
       "</style>\n",
       "<table border=\"1\" class=\"dataframe\">\n",
       "  <thead>\n",
       "    <tr style=\"text-align: right;\">\n",
       "      <th></th>\n",
       "      <th>Classifier</th>\n",
       "      <th>Accuracy</th>\n",
       "      <th>Precision</th>\n",
       "      <th>Recall</th>\n",
       "    </tr>\n",
       "  </thead>\n",
       "  <tbody>\n",
       "    <tr>\n",
       "      <th>0</th>\n",
       "      <td>Multinomial Naïve Bayes</td>\n",
       "      <td>0.677241</td>\n",
       "      <td>0.647411</td>\n",
       "      <td>0.616381</td>\n",
       "    </tr>\n",
       "    <tr>\n",
       "      <th>1</th>\n",
       "      <td>SVC with Linear Kernel</td>\n",
       "      <td>0.696878</td>\n",
       "      <td>0.671433</td>\n",
       "      <td>0.651408</td>\n",
       "    </tr>\n",
       "    <tr>\n",
       "      <th>2</th>\n",
       "      <td>SVC with RBF Kernel</td>\n",
       "      <td>0.657603</td>\n",
       "      <td>0.674039</td>\n",
       "      <td>0.531094</td>\n",
       "    </tr>\n",
       "    <tr>\n",
       "      <th>3</th>\n",
       "      <td>Gradient Boosting Classifier</td>\n",
       "      <td>0.680262</td>\n",
       "      <td>0.701991</td>\n",
       "      <td>0.581973</td>\n",
       "    </tr>\n",
       "    <tr>\n",
       "      <th>4</th>\n",
       "      <td>Random Forest Classifier</td>\n",
       "      <td>0.677744</td>\n",
       "      <td>0.684134</td>\n",
       "      <td>0.543057</td>\n",
       "    </tr>\n",
       "  </tbody>\n",
       "</table>\n",
       "</div>"
      ],
      "text/plain": [
       "                     Classifier  Accuracy  Precision    Recall\n",
       "0       Multinomial Naïve Bayes  0.677241   0.647411  0.616381\n",
       "1        SVC with Linear Kernel  0.696878   0.671433  0.651408\n",
       "2           SVC with RBF Kernel  0.657603   0.674039  0.531094\n",
       "3  Gradient Boosting Classifier  0.680262   0.701991  0.581973\n",
       "4      Random Forest Classifier  0.677744   0.684134  0.543057"
      ]
     },
     "execution_count": 38,
     "metadata": {},
     "output_type": "execute_result"
    }
   ],
   "source": [
    "models"
   ]
  },
  {
   "cell_type": "code",
   "execution_count": 57,
   "metadata": {},
   "outputs": [],
   "source": [
    "import matplotlib.pyplot as pt"
   ]
  },
  {
   "cell_type": "code",
   "execution_count": 59,
   "metadata": {},
   "outputs": [
    {
     "data": {
      "text/plain": [
       "[Text(0.0, 0, 'Multinomial Naïve Bayes'),\n",
       " Text(0.5, 0, 'SVC with Linear Kernel'),\n",
       " Text(1.0, 0, 'SVC with RBF Kernel'),\n",
       " Text(1.5, 0, 'Gradient Boosting Classifier'),\n",
       " Text(2.0, 0, 'Random Forest Classifier')]"
      ]
     },
     "execution_count": 59,
     "metadata": {},
     "output_type": "execute_result"
    }
   ],
   "source": [
    "plt.set_xticklabels(models.Classifier)"
   ]
  },
  {
   "cell_type": "code",
   "execution_count": 60,
   "metadata": {},
   "outputs": [
    {
     "name": "stdout",
     "output_type": "stream",
     "text": [
      "[Text(0.0, 0, 'Multinomial Naïve Bayes'), Text(0.5, 0, 'SVC with Linear Kernel'), Text(1.0, 0, 'SVC with RBF Kernel'), Text(1.5, 0, 'Gradient Boosting Classifier'), Text(2.0, 0, 'Random Forest Classifier')]\n"
     ]
    }
   ],
   "source": [
    "print(cmpgraph)"
   ]
  },
  {
   "cell_type": "code",
   "execution_count": 61,
   "metadata": {},
   "outputs": [
    {
     "data": {
      "text/plain": [
       "<matplotlib.axes._subplots.AxesSubplot at 0x19507c5d470>"
      ]
     },
     "execution_count": 61,
     "metadata": {},
     "output_type": "execute_result"
    }
   ],
   "source": [
    "plt"
   ]
  },
  {
   "cell_type": "code",
   "execution_count": 62,
   "metadata": {},
   "outputs": [],
   "source": [
    "pt.show()"
   ]
  },
  {
   "cell_type": "code",
   "execution_count": 63,
   "metadata": {},
   "outputs": [],
   "source": [
    "md = pd.DataFrame(index = lmod)"
   ]
  },
  {
   "cell_type": "code",
   "execution_count": 64,
   "metadata": {},
   "outputs": [],
   "source": [
    "md['Accuracy']=lac\n",
    "md['Precision']=lpr\n",
    "md['Recall']=lrc"
   ]
  },
  {
   "cell_type": "code",
   "execution_count": 65,
   "metadata": {},
   "outputs": [
    {
     "data": {
      "text/html": [
       "<div>\n",
       "<style scoped>\n",
       "    .dataframe tbody tr th:only-of-type {\n",
       "        vertical-align: middle;\n",
       "    }\n",
       "\n",
       "    .dataframe tbody tr th {\n",
       "        vertical-align: top;\n",
       "    }\n",
       "\n",
       "    .dataframe thead th {\n",
       "        text-align: right;\n",
       "    }\n",
       "</style>\n",
       "<table border=\"1\" class=\"dataframe\">\n",
       "  <thead>\n",
       "    <tr style=\"text-align: right;\">\n",
       "      <th></th>\n",
       "      <th>Accuracy</th>\n",
       "      <th>Precision</th>\n",
       "      <th>Recall</th>\n",
       "    </tr>\n",
       "  </thead>\n",
       "  <tbody>\n",
       "    <tr>\n",
       "      <th>Multinomial Naïve Bayes</th>\n",
       "      <td>0.677241</td>\n",
       "      <td>0.647411</td>\n",
       "      <td>0.616381</td>\n",
       "    </tr>\n",
       "    <tr>\n",
       "      <th>SVC with Linear Kernel</th>\n",
       "      <td>0.696878</td>\n",
       "      <td>0.671433</td>\n",
       "      <td>0.651408</td>\n",
       "    </tr>\n",
       "    <tr>\n",
       "      <th>SVC with RBF Kernel</th>\n",
       "      <td>0.657603</td>\n",
       "      <td>0.674039</td>\n",
       "      <td>0.531094</td>\n",
       "    </tr>\n",
       "    <tr>\n",
       "      <th>Gradient Boosting Classifier</th>\n",
       "      <td>0.680262</td>\n",
       "      <td>0.701991</td>\n",
       "      <td>0.581973</td>\n",
       "    </tr>\n",
       "    <tr>\n",
       "      <th>Random Forest Classifier</th>\n",
       "      <td>0.677744</td>\n",
       "      <td>0.684134</td>\n",
       "      <td>0.543057</td>\n",
       "    </tr>\n",
       "  </tbody>\n",
       "</table>\n",
       "</div>"
      ],
      "text/plain": [
       "                              Accuracy  Precision    Recall\n",
       "Multinomial Naïve Bayes       0.677241   0.647411  0.616381\n",
       "SVC with Linear Kernel        0.696878   0.671433  0.651408\n",
       "SVC with RBF Kernel           0.657603   0.674039  0.531094\n",
       "Gradient Boosting Classifier  0.680262   0.701991  0.581973\n",
       "Random Forest Classifier      0.677744   0.684134  0.543057"
      ]
     },
     "execution_count": 65,
     "metadata": {},
     "output_type": "execute_result"
    }
   ],
   "source": [
    "md"
   ]
  },
  {
   "cell_type": "code",
   "execution_count": 70,
   "metadata": {},
   "outputs": [
    {
     "data": {
      "image/png": "[encoded data removed]",
      "text/plain": [
       "<Figure size 432x288 with 1 Axes>"
      ]
     },
     "metadata": {
      "needs_background": "light"
     },
     "output_type": "display_data"
    }
   ],
   "source": [
    "plt = md.plot()"
   ]
  },
  {
   "cell_type": "code",
   "execution_count": 69,
   "metadata": {},
   "outputs": [
    {
     "data": {
      "image/png": "[encoded data removed]",
      "text/plain": [
       "<Figure size 432x288 with 1 Axes>"
      ]
     },
     "metadata": {
      "needs_background": "light"
     },
     "output_type": "display_data"
    }
   ],
   "source": [
    "plt = md.plot(kind='bar')"
   ]
  },
  {
   "cell_type": "code",
   "execution_count": 79,
   "metadata": {},
   "outputs": [
    {
     "data": {
      "image/png": "[encoded data removed]",
      "text/plain": [
       "<Figure size 432x288 with 1 Axes>"
      ]
     },
     "metadata": {
      "needs_background": "light"
     },
     "output_type": "display_data"
    }
   ],
   "source": [
    "f = pt.figure()\n",
    "\n",
    "pt.title('      Comparision of Accuracy, Precision and Recall of Classifiers\\n', color='black', fontsize=14)\n",
    "md.plot(kind='bar', ax=f.gca())\n",
    "pt.legend(loc='center left', bbox_to_anchor=(1.1, 0.1))\n",
    "pt.show()"
   ]
  }
 ],
 "metadata": {
  "kernelspec": {
   "display_name": "Python 3",
   "language": "python",
   "name": "python3"
  },
  "language_info": {
   "codemirror_mode": {
    "name": "ipython",
    "version": 3
   },
   "file_extension": ".py",
   "mimetype": "text/x-python",
   "name": "python",
   "nbconvert_exporter": "python",
   "pygments_lexer": "ipython3",
   "version": "3.7.1"
  }
 },
 "nbformat": 4,
 "nbformat_minor": 2
}
