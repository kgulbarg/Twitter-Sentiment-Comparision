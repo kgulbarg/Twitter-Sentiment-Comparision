{
 "cells": [
  {
   "cell_type": "code",
   "execution_count": 42,
   "metadata": {},
   "outputs": [
    {
     "data": {
      "text/plain": [
       "['tweet_text',\n",
       " 'emotion_in_tweet_is_directed_at',\n",
       " 'is_there_an_emotion_directed_at_a_brand_or_product']"
      ]
     },
     "execution_count": 42,
     "metadata": {},
     "output_type": "execute_result"
    }
   ],
   "source": [
    "import pandas as pd\n",
    "tweets = pd.read_csv(\"C:\\\\Users\\\\Kaumudi\\\\Documents\\\\kmd\\\\Sentiment Analysis\\\\LinearSVC\\\\judge.csv\",encoding = \"ISO-8859-1\")\n",
    "list(tweets.columns.values)"
   ]
  },
  {
   "cell_type": "code",
   "execution_count": 43,
   "metadata": {},
   "outputs": [
    {
     "name": "stdout",
     "output_type": "stream",
     "text": [
      "No emotion toward brand or product    5389\n",
      "Positive emotion                      2978\n",
      "Negative emotion                      570 \n",
      "I can't tell                          156 \n",
      "Name: is_there_an_emotion_directed_at_a_brand_or_product, dtype: int64\n"
     ]
    }
   ],
   "source": [
    "sentiment_counts = tweets.is_there_an_emotion_directed_at_a_brand_or_product.value_counts()\n",
    "number_of_tweets = tweets.tweet_text.count()\n",
    "print(sentiment_counts)"
   ]
  },
  {
   "cell_type": "code",
   "execution_count": 44,
   "metadata": {},
   "outputs": [],
   "source": [
    "import re, nltk\n",
    "from nltk.stem import WordNetLemmatizer\n",
    "from nltk.corpus import stopwords\n",
    "stop_words = set(stopwords.words('english'))\n",
    "wordnet_lemmatizer = WordNetLemmatizer()"
   ]
  },
  {
   "cell_type": "code",
   "execution_count": 45,
   "metadata": {},
   "outputs": [],
   "source": [
    "def normalizer(tweet):\n",
    "    only_letters = re.sub(\"[^a-zA-Z]\", \" \",str(tweet)) \n",
    "    tokens = nltk.word_tokenize(only_letters)[2:]\n",
    "    lower_case = [l.lower() for l in tokens]\n",
    "    filtered_result = list(filter(lambda l: l not in stop_words, lower_case))\n",
    "    lemmas = [wordnet_lemmatizer.lemmatize(t) for t in filtered_result]\n",
    "    return lemmas"
   ]
  },
  {
   "cell_type": "code",
   "execution_count": 46,
   "metadata": {},
   "outputs": [
    {
     "data": {
      "text/plain": [
       "['text', 'airline', 'like']"
      ]
     },
     "execution_count": 46,
     "metadata": {},
     "output_type": "execute_result"
    }
   ],
   "source": [
    "normalizer(\"Here is text about an airline I like.\")"
   ]
  },
  {
   "cell_type": "code",
   "execution_count": 47,
   "metadata": {},
   "outputs": [
    {
     "data": {
      "text/html": [
       "<div>\n",
       "<style scoped>\n",
       "    .dataframe tbody tr th:only-of-type {\n",
       "        vertical-align: middle;\n",
       "    }\n",
       "\n",
       "    .dataframe tbody tr th {\n",
       "        vertical-align: top;\n",
       "    }\n",
       "\n",
       "    .dataframe thead th {\n",
       "        text-align: right;\n",
       "    }\n",
       "</style>\n",
       "<table border=\"1\" class=\"dataframe\">\n",
       "  <thead>\n",
       "    <tr style=\"text-align: right;\">\n",
       "      <th></th>\n",
       "      <th>tweet_text</th>\n",
       "      <th>normalized_tweet</th>\n",
       "    </tr>\n",
       "  </thead>\n",
       "  <tbody>\n",
       "    <tr>\n",
       "      <th>0</th>\n",
       "      <td>.@wesley83 I have a 3G iPhone. After 3 hrs tweeting at #RISE_Austin, it was dead!  I need to upgrade. Plugin stations at #SXSW.</td>\n",
       "      <td>[g, iphone, hr, tweeting, rise, austin, dead, need, upgrade, plugin, station, sxsw]</td>\n",
       "    </tr>\n",
       "    <tr>\n",
       "      <th>1</th>\n",
       "      <td>@jessedee Know about @fludapp ? Awesome iPad/iPhone app that you'll likely appreciate for its design. Also, they're giving free Ts at #SXSW</td>\n",
       "      <td>[fludapp, awesome, ipad, iphone, app, likely, appreciate, design, also, giving, free, t, sxsw]</td>\n",
       "    </tr>\n",
       "    <tr>\n",
       "      <th>2</th>\n",
       "      <td>@swonderlin Can not wait for #iPad 2 also. They should sale them down at #SXSW.</td>\n",
       "      <td>[wait, ipad, also, sale, sxsw]</td>\n",
       "    </tr>\n",
       "    <tr>\n",
       "      <th>3</th>\n",
       "      <td>@sxsw I hope this year's festival isn't as crashy as this year's iPhone app. #sxsw</td>\n",
       "      <td>[hope, year, festival, crashy, year, iphone, app, sxsw]</td>\n",
       "    </tr>\n",
       "    <tr>\n",
       "      <th>4</th>\n",
       "      <td>@sxtxstate great stuff on Fri #SXSW: Marissa Mayer (Google), Tim O'Reilly (tech books/conferences) &amp;amp; Matt Mullenweg (Wordpress)</td>\n",
       "      <td>[stuff, fri, sxsw, marissa, mayer, google, tim, reilly, tech, book, conference, amp, matt, mullenweg, wordpress]</td>\n",
       "    </tr>\n",
       "  </tbody>\n",
       "</table>\n",
       "</div>"
      ],
      "text/plain": [
       "                                                                                                                                    tweet_text  \\\n",
       "0  .@wesley83 I have a 3G iPhone. After 3 hrs tweeting at #RISE_Austin, it was dead!  I need to upgrade. Plugin stations at #SXSW.               \n",
       "1  @jessedee Know about @fludapp ? Awesome iPad/iPhone app that you'll likely appreciate for its design. Also, they're giving free Ts at #SXSW   \n",
       "2  @swonderlin Can not wait for #iPad 2 also. They should sale them down at #SXSW.                                                               \n",
       "3  @sxsw I hope this year's festival isn't as crashy as this year's iPhone app. #sxsw                                                            \n",
       "4  @sxtxstate great stuff on Fri #SXSW: Marissa Mayer (Google), Tim O'Reilly (tech books/conferences) &amp; Matt Mullenweg (Wordpress)           \n",
       "\n",
       "                                                                                                   normalized_tweet  \n",
       "0  [g, iphone, hr, tweeting, rise, austin, dead, need, upgrade, plugin, station, sxsw]                               \n",
       "1  [fludapp, awesome, ipad, iphone, app, likely, appreciate, design, also, giving, free, t, sxsw]                    \n",
       "2  [wait, ipad, also, sale, sxsw]                                                                                    \n",
       "3  [hope, year, festival, crashy, year, iphone, app, sxsw]                                                           \n",
       "4  [stuff, fri, sxsw, marissa, mayer, google, tim, reilly, tech, book, conference, amp, matt, mullenweg, wordpress]  "
      ]
     },
     "execution_count": 47,
     "metadata": {},
     "output_type": "execute_result"
    }
   ],
   "source": [
    "pd.set_option('display.max_colwidth', -1) # Setting this so we can see the full content of cells\n",
    "tweets['normalized_tweet'] = tweets.tweet_text.apply(normalizer)\n",
    "tweets[['tweet_text','normalized_tweet']].head()"
   ]
  },
  {
   "cell_type": "code",
   "execution_count": 48,
   "metadata": {},
   "outputs": [
    {
     "data": {
      "text/html": [
       "<div>\n",
       "<style scoped>\n",
       "    .dataframe tbody tr th:only-of-type {\n",
       "        vertical-align: middle;\n",
       "    }\n",
       "\n",
       "    .dataframe tbody tr th {\n",
       "        vertical-align: top;\n",
       "    }\n",
       "\n",
       "    .dataframe thead th {\n",
       "        text-align: right;\n",
       "    }\n",
       "</style>\n",
       "<table border=\"1\" class=\"dataframe\">\n",
       "  <thead>\n",
       "    <tr style=\"text-align: right;\">\n",
       "      <th></th>\n",
       "      <th>grams</th>\n",
       "    </tr>\n",
       "  </thead>\n",
       "  <tbody>\n",
       "    <tr>\n",
       "      <th>0</th>\n",
       "      <td>[g iphone, iphone hr, hr tweeting, tweeting rise, rise austin, austin dead, dead need, need upgrade, upgrade plugin, plugin station, station sxsw, g iphone hr, iphone hr tweeting, hr tweeting rise, tweeting rise austin, rise austin dead, austin dead need, dead need upgrade, need upgrade plugin, upgrade plugin station, plugin station sxsw]</td>\n",
       "    </tr>\n",
       "    <tr>\n",
       "      <th>1</th>\n",
       "      <td>[fludapp awesome, awesome ipad, ipad iphone, iphone app, app likely, likely appreciate, appreciate design, design also, also giving, giving free, free t, t sxsw, fludapp awesome ipad, awesome ipad iphone, ipad iphone app, iphone app likely, app likely appreciate, likely appreciate design, appreciate design also, design also giving, also giving free, giving free t, free t sxsw]</td>\n",
       "    </tr>\n",
       "    <tr>\n",
       "      <th>2</th>\n",
       "      <td>[wait ipad, ipad also, also sale, sale sxsw, wait ipad also, ipad also sale, also sale sxsw]</td>\n",
       "    </tr>\n",
       "    <tr>\n",
       "      <th>3</th>\n",
       "      <td>[hope year, year festival, festival crashy, crashy year, year iphone, iphone app, app sxsw, hope year festival, year festival crashy, festival crashy year, crashy year iphone, year iphone app, iphone app sxsw]</td>\n",
       "    </tr>\n",
       "    <tr>\n",
       "      <th>4</th>\n",
       "      <td>[stuff fri, fri sxsw, sxsw marissa, marissa mayer, mayer google, google tim, tim reilly, reilly tech, tech book, book conference, conference amp, amp matt, matt mullenweg, mullenweg wordpress, stuff fri sxsw, fri sxsw marissa, sxsw marissa mayer, marissa mayer google, mayer google tim, google tim reilly, tim reilly tech, reilly tech book, tech book conference, book conference amp, conference amp matt, amp matt mullenweg, matt mullenweg wordpress]</td>\n",
       "    </tr>\n",
       "  </tbody>\n",
       "</table>\n",
       "</div>"
      ],
      "text/plain": [
       "                                                                                                                                                                                                                                                                                                                                                                                                                                                                grams\n",
       "0  [g iphone, iphone hr, hr tweeting, tweeting rise, rise austin, austin dead, dead need, need upgrade, upgrade plugin, plugin station, station sxsw, g iphone hr, iphone hr tweeting, hr tweeting rise, tweeting rise austin, rise austin dead, austin dead need, dead need upgrade, need upgrade plugin, upgrade plugin station, plugin station sxsw]                                                                                                              \n",
       "1  [fludapp awesome, awesome ipad, ipad iphone, iphone app, app likely, likely appreciate, appreciate design, design also, also giving, giving free, free t, t sxsw, fludapp awesome ipad, awesome ipad iphone, ipad iphone app, iphone app likely, app likely appreciate, likely appreciate design, appreciate design also, design also giving, also giving free, giving free t, free t sxsw]                                                                       \n",
       "2  [wait ipad, ipad also, also sale, sale sxsw, wait ipad also, ipad also sale, also sale sxsw]                                                                                                                                                                                                                                                                                                                                                                      \n",
       "3  [hope year, year festival, festival crashy, crashy year, year iphone, iphone app, app sxsw, hope year festival, year festival crashy, festival crashy year, crashy year iphone, year iphone app, iphone app sxsw]                                                                                                                                                                                                                                                 \n",
       "4  [stuff fri, fri sxsw, sxsw marissa, marissa mayer, mayer google, google tim, tim reilly, reilly tech, tech book, book conference, conference amp, amp matt, matt mullenweg, mullenweg wordpress, stuff fri sxsw, fri sxsw marissa, sxsw marissa mayer, marissa mayer google, mayer google tim, google tim reilly, tim reilly tech, reilly tech book, tech book conference, book conference amp, conference amp matt, amp matt mullenweg, matt mullenweg wordpress]"
      ]
     },
     "execution_count": 48,
     "metadata": {},
     "output_type": "execute_result"
    }
   ],
   "source": [
    "from nltk import ngrams\n",
    "def ngrams(input_list):\n",
    "    #onegrams = input_list\n",
    "    bigrams = [' '.join(t) for t in list(zip(input_list, input_list[1:]))]\n",
    "    trigrams = [' '.join(t) for t in list(zip(input_list, input_list[1:], input_list[2:]))]\n",
    "    return bigrams+trigrams\n",
    "tweets['grams'] = tweets.normalized_tweet.apply(ngrams)\n",
    "tweets[['grams']].head()"
   ]
  },
  {
   "cell_type": "code",
   "execution_count": 49,
   "metadata": {},
   "outputs": [],
   "source": [
    "import collections\n",
    "def count_words(input):\n",
    "    cnt = collections.Counter()\n",
    "    for row in input:\n",
    "        for word in row:\n",
    "            cnt[word] += 1\n",
    "    return cnt"
   ]
  },
  {
   "cell_type": "code",
   "execution_count": 50,
   "metadata": {},
   "outputs": [
    {
     "data": {
      "text/plain": [
       "[('rt mention', 39),\n",
       " ('sxsw link', 24),\n",
       " ('link sxsw', 24),\n",
       " ('apple store', 23),\n",
       " ('mention sxsw', 23),\n",
       " ('iphone app', 21),\n",
       " ('ipad sxsw', 17),\n",
       " ('design headache', 16),\n",
       " ('new social', 16),\n",
       " ('social network', 15),\n",
       " ('mention mention', 15),\n",
       " ('google circle', 14),\n",
       " ('ipad design', 14),\n",
       " ('quot sxsw', 14),\n",
       " ('iphone sxsw', 14),\n",
       " ('ipad design headache', 13),\n",
       " ('new social network', 13),\n",
       " ('mention google', 13),\n",
       " ('company america', 13),\n",
       " ('sxsw quot', 12)]"
      ]
     },
     "execution_count": 50,
     "metadata": {},
     "output_type": "execute_result"
    }
   ],
   "source": [
    "tweets[(tweets.is_there_an_emotion_directed_at_a_brand_or_product == 'Negative emotion')][['grams']].apply(count_words)['grams'].most_common(20)"
   ]
  },
  {
   "cell_type": "code",
   "execution_count": 51,
   "metadata": {},
   "outputs": [
    {
     "data": {
      "text/plain": [
       "[('sxsw link', 314),\n",
       " ('rt mention', 262),\n",
       " ('apple store', 207),\n",
       " ('link sxsw', 169),\n",
       " ('mention sxsw', 167),\n",
       " ('iphone app', 132),\n",
       " ('pop store', 130),\n",
       " ('store sxsw', 121),\n",
       " ('ipad sxsw', 118),\n",
       " ('via mention', 111),\n",
       " ('austin sxsw', 103),\n",
       " ('mention mention', 100),\n",
       " ('sxsw apple', 85),\n",
       " ('social network', 83),\n",
       " ('sxsw ipad', 81),\n",
       " ('link via', 78),\n",
       " ('link via mention', 74),\n",
       " ('new social', 74),\n",
       " ('downtown austin', 72),\n",
       " ('new social network', 71)]"
      ]
     },
     "execution_count": 51,
     "metadata": {},
     "output_type": "execute_result"
    }
   ],
   "source": [
    "tweets[(tweets.is_there_an_emotion_directed_at_a_brand_or_product == 'Positive emotion')][['grams']].apply(count_words)['grams'].most_common(20)"
   ]
  },
  {
   "cell_type": "code",
   "execution_count": 52,
   "metadata": {},
   "outputs": [
    {
     "data": {
      "text/plain": [
       "[('sxsw link', 578),\n",
       " ('link sxsw', 574),\n",
       " ('rt mention', 436),\n",
       " ('social network', 349),\n",
       " ('apple store', 322),\n",
       " ('new social', 317),\n",
       " ('new social network', 297),\n",
       " ('mention mention', 289),\n",
       " ('network called', 252),\n",
       " ('social network called', 252),\n",
       " ('called circle', 244),\n",
       " ('network called circle', 240),\n",
       " ('mention sxsw', 237),\n",
       " ('major new', 225),\n",
       " ('major new social', 225),\n",
       " ('via mention', 220),\n",
       " ('launch major', 219),\n",
       " ('launch major new', 219),\n",
       " ('store sxsw', 212),\n",
       " ('austin sxsw', 200)]"
      ]
     },
     "execution_count": 52,
     "metadata": {},
     "output_type": "execute_result"
    }
   ],
   "source": [
    "tweets[(tweets.is_there_an_emotion_directed_at_a_brand_or_product == 'No emotion toward brand or product')][['grams']].apply(count_words)['grams'].most_common(20)"
   ]
  },
  {
   "cell_type": "code",
   "execution_count": 53,
   "metadata": {},
   "outputs": [],
   "source": [
    "import numpy as np\n",
    "from scipy.sparse import hstack\n",
    "from sklearn.feature_extraction.text import CountVectorizer\n",
    "count_vectorizer = CountVectorizer(ngram_range=(1,2))"
   ]
  },
  {
   "cell_type": "code",
   "execution_count": 54,
   "metadata": {},
   "outputs": [
    {
     "data": {
      "text/plain": [
       "['count_vect.sav']"
      ]
     },
     "execution_count": 54,
     "metadata": {},
     "output_type": "execute_result"
    }
   ],
   "source": [
    "import joblib\n",
    "file = 'count_vect.sav'\n",
    "joblib.dump(count_vectorizer, file)"
   ]
  },
  {
   "cell_type": "code",
   "execution_count": 55,
   "metadata": {},
   "outputs": [],
   "source": [
    "vectorized_data = count_vectorizer.fit_transform(tweets.tweet_text.astype(str))\n",
    "indexed_data = hstack((np.array(range(0,vectorized_data.shape[0]))[:,None], vectorized_data))"
   ]
  },
  {
   "cell_type": "code",
   "execution_count": 56,
   "metadata": {},
   "outputs": [],
   "source": [
    "def sentiment2target(sentiment):\n",
    "    return {\n",
    "        'Negative emotion': 0,\n",
    "        'No emotion toward brand or product': 1,\n",
    "        'I can\\'t tell': 1,\n",
    "        'Positive emotion' : 2\n",
    "    }[sentiment]\n",
    "targets = tweets.is_there_an_emotion_directed_at_a_brand_or_product.apply(sentiment2target)"
   ]
  },
  {
   "cell_type": "code",
   "execution_count": 57,
   "metadata": {},
   "outputs": [],
   "source": [
    "from sklearn.model_selection import train_test_split\n",
    "data_train, data_test, targets_train, targets_test = train_test_split(indexed_data, targets, test_size=0.4, random_state=0)\n",
    "data_train_index = data_train[:,0]\n",
    "data_train = data_train[:,1:]\n",
    "data_test_index = data_test[:,0]\n",
    "data_test = data_test[:,1:]"
   ]
  },
  {
   "cell_type": "code",
   "execution_count": 60,
   "metadata": {},
   "outputs": [],
   "source": [
    "from sklearn import svm\n",
    "from sklearn.multiclass import OneVsRestClassifier\n",
    "clf = OneVsRestClassifier(svm.SVC(gamma=0.01, C=10., probability=True, class_weight='balanced', kernel='linear'))\n",
    "clf_output = clf.fit(data_train, targets_train)"
   ]
  },
  {
   "cell_type": "code",
   "execution_count": 61,
   "metadata": {},
   "outputs": [
    {
     "data": {
      "text/plain": [
       "0.6462341946124244"
      ]
     },
     "execution_count": 61,
     "metadata": {},
     "output_type": "execute_result"
    }
   ],
   "source": [
    "clf.score(data_test, targets_test)"
   ]
  },
  {
   "cell_type": "code",
   "execution_count": 40,
   "metadata": {},
   "outputs": [
    {
     "data": {
      "text/plain": [
       "['trained_model.sav']"
      ]
     },
     "execution_count": 40,
     "metadata": {},
     "output_type": "execute_result"
    }
   ],
   "source": [
    "file = 'trained_model.sav'\n",
    "joblib.dump(clf, file)"
   ]
  },
  {
   "cell_type": "code",
   "execution_count": 41,
   "metadata": {},
   "outputs": [
    {
     "data": {
      "text/plain": [
       "array([[0.08053652, 0.52740641, 0.39205707]])"
      ]
     },
     "execution_count": 41,
     "metadata": {},
     "output_type": "execute_result"
    }
   ],
   "source": [
    "sentences = count_vectorizer.transform([\n",
    "    \"Galaxy S10e review: Samsung's iPhone XR is a colorful winner https://t.co/1cv25K77zw https://t.co/Q8SYIjc8JT\t\"\n",
    "])\n",
    "parr = clf.predict_proba(sentences)\n",
    "parr"
   ]
  },
  {
   "cell_type": "code",
   "execution_count": null,
   "metadata": {},
   "outputs": [],
   "source": []
  }
 ],
 "metadata": {
  "kernelspec": {
   "display_name": "Python 3",
   "language": "python",
   "name": "python3"
  },
  "language_info": {
   "codemirror_mode": {
    "name": "ipython",
    "version": 3
   },
   "file_extension": ".py",
   "mimetype": "text/x-python",
   "name": "python",
   "nbconvert_exporter": "python",
   "pygments_lexer": "ipython3",
   "version": "3.7.1"
  }
 },
 "nbformat": 4,
 "nbformat_minor": 2
}
