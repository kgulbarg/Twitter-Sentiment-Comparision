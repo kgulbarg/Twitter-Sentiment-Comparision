{
 "cells": [
  {
   "cell_type": "code",
   "execution_count": 8,
   "metadata": {},
   "outputs": [],
   "source": [
    "from sklearn.externals import joblib\n",
    "from credentials import *\n",
    "import tweepy\n",
    "import csv\n",
    "import sys\n",
    "import os\n",
    "import pandas as pd\n",
    "import numpy as np\n",
    "#%matplotlib inline\n",
    "import matplotlib.pyplot as plt"
   ]
  },
  {
   "cell_type": "code",
   "execution_count": 9,
   "metadata": {},
   "outputs": [],
   "source": [
    " clf = joblib.load('C:\\\\Users\\\\Kaumudi\\\\Documents\\\\kmd\\\\Sentiment Analysis\\\\LinearSVC\\\\trained_modelBig.sav')\n",
    "\n",
    " auth = tweepy.AppAuthHandler(CONSUMER_KEY,CONSUMER_SECRET)\n",
    " api = tweepy.API(auth, wait_on_rate_limit=True, wait_on_rate_limit_notify=True)\n"
   ]
  },
  {
   "cell_type": "code",
   "execution_count": 70,
   "metadata": {},
   "outputs": [],
   "source": [
    "results = []\n",
    "N = 1000\n",
    "#Get the first 5000 items based on the search query\n",
    "for tweet in tweepy.Cursor(api.search, q= 'apple AND (iphone OR XS) -filter:retweets', lang='en').items(N):\n",
    "    results.append(tweet)\n"
   ]
  },
  {
   "cell_type": "code",
   "execution_count": 11,
   "metadata": {},
   "outputs": [
    {
     "data": {
      "text/plain": [
       "[Status(_api=<tweepy.api.API object at 0x00000203741220F0>, _json={'created_at': 'Sat Jun 01 07:29:25 +0000 2019', 'id': 1134723610491232257, 'id_str': '1134723610491232257', 'text': '@oneplus I owned one .. \\nPros :\\n1) High quality clarity loud sound \\n2) good battery life\\n3) voice calls are clearer… https://t.co/qgDFs9YIiC', 'truncated': True, 'entities': {'hashtags': [], 'symbols': [], 'user_mentions': [{'screen_name': 'oneplus', 'name': 'OnePlus', 'id': 2196922086, 'id_str': '2196922086', 'indices': [0, 8]}], 'urls': [{'url': 'https://t.co/qgDFs9YIiC', 'expanded_url': 'https://twitter.com/i/web/status/1134723610491232257', 'display_url': 'twitter.com/i/web/status/1…', 'indices': [117, 140]}]}, 'metadata': {'iso_language_code': 'en', 'result_type': 'recent'}, 'source': '<a href=\"http://twitter.com/download/android\" rel=\"nofollow\">Twitter for Android</a>', 'in_reply_to_status_id': 1134444417434226688, 'in_reply_to_status_id_str': '1134444417434226688', 'in_reply_to_user_id': 2196922086, 'in_reply_to_user_id_str': '2196922086', 'in_reply_to_screen_name': 'oneplus', 'user': {'id': 280503749, 'id_str': '280503749', 'name': 'Vigneswaran Arumugam', 'screen_name': 'skewnith', 'location': 'Madurai', 'description': 'Think well before to follow me', 'url': None, 'entities': {'description': {'urls': []}}, 'protected': False, 'followers_count': 405, 'friends_count': 834, 'listed_count': 1, 'created_at': 'Mon Apr 11 13:16:13 +0000 2011', 'favourites_count': 587, 'utc_offset': None, 'time_zone': None, 'geo_enabled': True, 'verified': False, 'statuses_count': 662, 'lang': 'en', 'contributors_enabled': False, 'is_translator': False, 'is_translation_enabled': False, 'profile_background_color': '131516', 'profile_background_image_url': 'http://abs.twimg.com/images/themes/theme14/bg.gif', 'profile_background_image_url_https': 'https://abs.twimg.com/images/themes/theme14/bg.gif', 'profile_background_tile': True, 'profile_image_url': 'http://pbs.twimg.com/profile_images/466202390027194368/j9fHAEI6_normal.jpeg', 'profile_image_url_https': 'https://pbs.twimg.com/profile_images/466202390027194368/j9fHAEI6_normal.jpeg', 'profile_banner_url': 'https://pbs.twimg.com/profile_banners/280503749/1482168048', 'profile_link_color': '990075', 'profile_sidebar_border_color': 'EEEEEE', 'profile_sidebar_fill_color': 'EFEFEF', 'profile_text_color': '333333', 'profile_use_background_image': True, 'has_extended_profile': True, 'default_profile': False, 'default_profile_image': False, 'following': None, 'follow_request_sent': None, 'notifications': None, 'translator_type': 'none'}, 'geo': None, 'coordinates': None, 'place': None, 'contributors': None, 'is_quote_status': False, 'retweet_count': 0, 'favorite_count': 1, 'favorited': False, 'retweeted': False, 'lang': 'en'}, created_at=datetime.datetime(2019, 6, 1, 7, 29, 25), id=1134723610491232257, id_str='1134723610491232257', text='@oneplus I owned one .. \\nPros :\\n1) High quality clarity loud sound \\n2) good battery life\\n3) voice calls are clearer… https://t.co/qgDFs9YIiC', truncated=True, entities={'hashtags': [], 'symbols': [], 'user_mentions': [{'screen_name': 'oneplus', 'name': 'OnePlus', 'id': 2196922086, 'id_str': '2196922086', 'indices': [0, 8]}], 'urls': [{'url': 'https://t.co/qgDFs9YIiC', 'expanded_url': 'https://twitter.com/i/web/status/1134723610491232257', 'display_url': 'twitter.com/i/web/status/1…', 'indices': [117, 140]}]}, metadata={'iso_language_code': 'en', 'result_type': 'recent'}, source='Twitter for Android', source_url='http://twitter.com/download/android', in_reply_to_status_id=1134444417434226688, in_reply_to_status_id_str='1134444417434226688', in_reply_to_user_id=2196922086, in_reply_to_user_id_str='2196922086', in_reply_to_screen_name='oneplus', author=User(_api=<tweepy.api.API object at 0x00000203741220F0>, _json={'id': 280503749, 'id_str': '280503749', 'name': 'Vigneswaran Arumugam', 'screen_name': 'skewnith', 'location': 'Madurai', 'description': 'Think well before to follow me', 'url': None, 'entities': {'description': {'urls': []}}, 'protected': False, 'followers_count': 405, 'friends_count': 834, 'listed_count': 1, 'created_at': 'Mon Apr 11 13:16:13 +0000 2011', 'favourites_count': 587, 'utc_offset': None, 'time_zone': None, 'geo_enabled': True, 'verified': False, 'statuses_count': 662, 'lang': 'en', 'contributors_enabled': False, 'is_translator': False, 'is_translation_enabled': False, 'profile_background_color': '131516', 'profile_background_image_url': 'http://abs.twimg.com/images/themes/theme14/bg.gif', 'profile_background_image_url_https': 'https://abs.twimg.com/images/themes/theme14/bg.gif', 'profile_background_tile': True, 'profile_image_url': 'http://pbs.twimg.com/profile_images/466202390027194368/j9fHAEI6_normal.jpeg', 'profile_image_url_https': 'https://pbs.twimg.com/profile_images/466202390027194368/j9fHAEI6_normal.jpeg', 'profile_banner_url': 'https://pbs.twimg.com/profile_banners/280503749/1482168048', 'profile_link_color': '990075', 'profile_sidebar_border_color': 'EEEEEE', 'profile_sidebar_fill_color': 'EFEFEF', 'profile_text_color': '333333', 'profile_use_background_image': True, 'has_extended_profile': True, 'default_profile': False, 'default_profile_image': False, 'following': None, 'follow_request_sent': None, 'notifications': None, 'translator_type': 'none'}, id=280503749, id_str='280503749', name='Vigneswaran Arumugam', screen_name='skewnith', location='Madurai', description='Think well before to follow me', url=None, entities={'description': {'urls': []}}, protected=False, followers_count=405, friends_count=834, listed_count=1, created_at=datetime.datetime(2011, 4, 11, 13, 16, 13), favourites_count=587, utc_offset=None, time_zone=None, geo_enabled=True, verified=False, statuses_count=662, lang='en', contributors_enabled=False, is_translator=False, is_translation_enabled=False, profile_background_color='131516', profile_background_image_url='http://abs.twimg.com/images/themes/theme14/bg.gif', profile_background_image_url_https='https://abs.twimg.com/images/themes/theme14/bg.gif', profile_background_tile=True, profile_image_url='http://pbs.twimg.com/profile_images/466202390027194368/j9fHAEI6_normal.jpeg', profile_image_url_https='https://pbs.twimg.com/profile_images/466202390027194368/j9fHAEI6_normal.jpeg', profile_banner_url='https://pbs.twimg.com/profile_banners/280503749/1482168048', profile_link_color='990075', profile_sidebar_border_color='EEEEEE', profile_sidebar_fill_color='EFEFEF', profile_text_color='333333', profile_use_background_image=True, has_extended_profile=True, default_profile=False, default_profile_image=False, following=False, follow_request_sent=None, notifications=None, translator_type='none'), user=User(_api=<tweepy.api.API object at 0x00000203741220F0>, _json={'id': 280503749, 'id_str': '280503749', 'name': 'Vigneswaran Arumugam', 'screen_name': 'skewnith', 'location': 'Madurai', 'description': 'Think well before to follow me', 'url': None, 'entities': {'description': {'urls': []}}, 'protected': False, 'followers_count': 405, 'friends_count': 834, 'listed_count': 1, 'created_at': 'Mon Apr 11 13:16:13 +0000 2011', 'favourites_count': 587, 'utc_offset': None, 'time_zone': None, 'geo_enabled': True, 'verified': False, 'statuses_count': 662, 'lang': 'en', 'contributors_enabled': False, 'is_translator': False, 'is_translation_enabled': False, 'profile_background_color': '131516', 'profile_background_image_url': 'http://abs.twimg.com/images/themes/theme14/bg.gif', 'profile_background_image_url_https': 'https://abs.twimg.com/images/themes/theme14/bg.gif', 'profile_background_tile': True, 'profile_image_url': 'http://pbs.twimg.com/profile_images/466202390027194368/j9fHAEI6_normal.jpeg', 'profile_image_url_https': 'https://pbs.twimg.com/profile_images/466202390027194368/j9fHAEI6_normal.jpeg', 'profile_banner_url': 'https://pbs.twimg.com/profile_banners/280503749/1482168048', 'profile_link_color': '990075', 'profile_sidebar_border_color': 'EEEEEE', 'profile_sidebar_fill_color': 'EFEFEF', 'profile_text_color': '333333', 'profile_use_background_image': True, 'has_extended_profile': True, 'default_profile': False, 'default_profile_image': False, 'following': None, 'follow_request_sent': None, 'notifications': None, 'translator_type': 'none'}, id=280503749, id_str='280503749', name='Vigneswaran Arumugam', screen_name='skewnith', location='Madurai', description='Think well before to follow me', url=None, entities={'description': {'urls': []}}, protected=False, followers_count=405, friends_count=834, listed_count=1, created_at=datetime.datetime(2011, 4, 11, 13, 16, 13), favourites_count=587, utc_offset=None, time_zone=None, geo_enabled=True, verified=False, statuses_count=662, lang='en', contributors_enabled=False, is_translator=False, is_translation_enabled=False, profile_background_color='131516', profile_background_image_url='http://abs.twimg.com/images/themes/theme14/bg.gif', profile_background_image_url_https='https://abs.twimg.com/images/themes/theme14/bg.gif', profile_background_tile=True, profile_image_url='http://pbs.twimg.com/profile_images/466202390027194368/j9fHAEI6_normal.jpeg', profile_image_url_https='https://pbs.twimg.com/profile_images/466202390027194368/j9fHAEI6_normal.jpeg', profile_banner_url='https://pbs.twimg.com/profile_banners/280503749/1482168048', profile_link_color='990075', profile_sidebar_border_color='EEEEEE', profile_sidebar_fill_color='EFEFEF', profile_text_color='333333', profile_use_background_image=True, has_extended_profile=True, default_profile=False, default_profile_image=False, following=False, follow_request_sent=None, notifications=None, translator_type='none'), geo=None, coordinates=None, place=None, contributors=None, is_quote_status=False, retweet_count=0, favorite_count=1, favorited=False, retweeted=False, lang='en'),\n",
       " Status(_api=<tweepy.api.API object at 0x00000203741220F0>, _json={'created_at': 'Mon May 27 16:56:11 +0000 2019', 'id': 1133054302107291649, 'id_str': '1133054302107291649', 'text': '@oppo I dont love oppo smartphone,its so costly,mi is better than this have a good battery life and its available a… https://t.co/VfvSzQSVMK', 'truncated': True, 'entities': {'hashtags': [], 'symbols': [], 'user_mentions': [{'screen_name': 'oppo', 'name': 'OPPO', 'id': 960653964, 'id_str': '960653964', 'indices': [0, 5]}], 'urls': [{'url': 'https://t.co/VfvSzQSVMK', 'expanded_url': 'https://twitter.com/i/web/status/1133054302107291649', 'display_url': 'twitter.com/i/web/status/1…', 'indices': [117, 140]}]}, 'metadata': {'iso_language_code': 'en', 'result_type': 'recent'}, 'source': '<a href=\"http://twitter.com/download/android\" rel=\"nofollow\">Twitter for Android</a>', 'in_reply_to_status_id': 1131391980125089792, 'in_reply_to_status_id_str': '1131391980125089792', 'in_reply_to_user_id': 960653964, 'in_reply_to_user_id_str': '960653964', 'in_reply_to_screen_name': 'oppo', 'user': {'id': 1132188694222319616, 'id_str': '1132188694222319616', 'name': 'Abhishek VC', 'screen_name': 'vc_abhishek', 'location': '', 'description': 'call me abhi\\nwish me on 13 oct\\n#kasrodian\\nFollow me on\\ninstagram\\n@vc_abhishek', 'url': None, 'entities': {'description': {'urls': []}}, 'protected': False, 'followers_count': 0, 'friends_count': 18, 'listed_count': 0, 'created_at': 'Sat May 25 07:36:34 +0000 2019', 'favourites_count': 22, 'utc_offset': None, 'time_zone': None, 'geo_enabled': False, 'verified': False, 'statuses_count': 6, 'lang': 'en', 'contributors_enabled': False, 'is_translator': False, 'is_translation_enabled': False, 'profile_background_color': 'F5F8FA', 'profile_background_image_url': None, 'profile_background_image_url_https': None, 'profile_background_tile': False, 'profile_image_url': 'http://pbs.twimg.com/profile_images/1132189104806871040/YuMQGlrb_normal.jpg', 'profile_image_url_https': 'https://pbs.twimg.com/profile_images/1132189104806871040/YuMQGlrb_normal.jpg', 'profile_link_color': '1DA1F2', 'profile_sidebar_border_color': 'C0DEED', 'profile_sidebar_fill_color': 'DDEEF6', 'profile_text_color': '333333', 'profile_use_background_image': True, 'has_extended_profile': False, 'default_profile': True, 'default_profile_image': False, 'following': None, 'follow_request_sent': None, 'notifications': None, 'translator_type': 'none'}, 'geo': None, 'coordinates': None, 'place': None, 'contributors': None, 'is_quote_status': False, 'retweet_count': 0, 'favorite_count': 1, 'favorited': False, 'retweeted': False, 'lang': 'en'}, created_at=datetime.datetime(2019, 5, 27, 16, 56, 11), id=1133054302107291649, id_str='1133054302107291649', text='@oppo I dont love oppo smartphone,its so costly,mi is better than this have a good battery life and its available a… https://t.co/VfvSzQSVMK', truncated=True, entities={'hashtags': [], 'symbols': [], 'user_mentions': [{'screen_name': 'oppo', 'name': 'OPPO', 'id': 960653964, 'id_str': '960653964', 'indices': [0, 5]}], 'urls': [{'url': 'https://t.co/VfvSzQSVMK', 'expanded_url': 'https://twitter.com/i/web/status/1133054302107291649', 'display_url': 'twitter.com/i/web/status/1…', 'indices': [117, 140]}]}, metadata={'iso_language_code': 'en', 'result_type': 'recent'}, source='Twitter for Android', source_url='http://twitter.com/download/android', in_reply_to_status_id=1131391980125089792, in_reply_to_status_id_str='1131391980125089792', in_reply_to_user_id=960653964, in_reply_to_user_id_str='960653964', in_reply_to_screen_name='oppo', author=User(_api=<tweepy.api.API object at 0x00000203741220F0>, _json={'id': 1132188694222319616, 'id_str': '1132188694222319616', 'name': 'Abhishek VC', 'screen_name': 'vc_abhishek', 'location': '', 'description': 'call me abhi\\nwish me on 13 oct\\n#kasrodian\\nFollow me on\\ninstagram\\n@vc_abhishek', 'url': None, 'entities': {'description': {'urls': []}}, 'protected': False, 'followers_count': 0, 'friends_count': 18, 'listed_count': 0, 'created_at': 'Sat May 25 07:36:34 +0000 2019', 'favourites_count': 22, 'utc_offset': None, 'time_zone': None, 'geo_enabled': False, 'verified': False, 'statuses_count': 6, 'lang': 'en', 'contributors_enabled': False, 'is_translator': False, 'is_translation_enabled': False, 'profile_background_color': 'F5F8FA', 'profile_background_image_url': None, 'profile_background_image_url_https': None, 'profile_background_tile': False, 'profile_image_url': 'http://pbs.twimg.com/profile_images/1132189104806871040/YuMQGlrb_normal.jpg', 'profile_image_url_https': 'https://pbs.twimg.com/profile_images/1132189104806871040/YuMQGlrb_normal.jpg', 'profile_link_color': '1DA1F2', 'profile_sidebar_border_color': 'C0DEED', 'profile_sidebar_fill_color': 'DDEEF6', 'profile_text_color': '333333', 'profile_use_background_image': True, 'has_extended_profile': False, 'default_profile': True, 'default_profile_image': False, 'following': None, 'follow_request_sent': None, 'notifications': None, 'translator_type': 'none'}, id=1132188694222319616, id_str='1132188694222319616', name='Abhishek VC', screen_name='vc_abhishek', location='', description='call me abhi\\nwish me on 13 oct\\n#kasrodian\\nFollow me on\\ninstagram\\n@vc_abhishek', url=None, entities={'description': {'urls': []}}, protected=False, followers_count=0, friends_count=18, listed_count=0, created_at=datetime.datetime(2019, 5, 25, 7, 36, 34), favourites_count=22, utc_offset=None, time_zone=None, geo_enabled=False, verified=False, statuses_count=6, lang='en', contributors_enabled=False, is_translator=False, is_translation_enabled=False, profile_background_color='F5F8FA', profile_background_image_url=None, profile_background_image_url_https=None, profile_background_tile=False, profile_image_url='http://pbs.twimg.com/profile_images/1132189104806871040/YuMQGlrb_normal.jpg', profile_image_url_https='https://pbs.twimg.com/profile_images/1132189104806871040/YuMQGlrb_normal.jpg', profile_link_color='1DA1F2', profile_sidebar_border_color='C0DEED', profile_sidebar_fill_color='DDEEF6', profile_text_color='333333', profile_use_background_image=True, has_extended_profile=False, default_profile=True, default_profile_image=False, following=False, follow_request_sent=None, notifications=None, translator_type='none'), user=User(_api=<tweepy.api.API object at 0x00000203741220F0>, _json={'id': 1132188694222319616, 'id_str': '1132188694222319616', 'name': 'Abhishek VC', 'screen_name': 'vc_abhishek', 'location': '', 'description': 'call me abhi\\nwish me on 13 oct\\n#kasrodian\\nFollow me on\\ninstagram\\n@vc_abhishek', 'url': None, 'entities': {'description': {'urls': []}}, 'protected': False, 'followers_count': 0, 'friends_count': 18, 'listed_count': 0, 'created_at': 'Sat May 25 07:36:34 +0000 2019', 'favourites_count': 22, 'utc_offset': None, 'time_zone': None, 'geo_enabled': False, 'verified': False, 'statuses_count': 6, 'lang': 'en', 'contributors_enabled': False, 'is_translator': False, 'is_translation_enabled': False, 'profile_background_color': 'F5F8FA', 'profile_background_image_url': None, 'profile_background_image_url_https': None, 'profile_background_tile': False, 'profile_image_url': 'http://pbs.twimg.com/profile_images/1132189104806871040/YuMQGlrb_normal.jpg', 'profile_image_url_https': 'https://pbs.twimg.com/profile_images/1132189104806871040/YuMQGlrb_normal.jpg', 'profile_link_color': '1DA1F2', 'profile_sidebar_border_color': 'C0DEED', 'profile_sidebar_fill_color': 'DDEEF6', 'profile_text_color': '333333', 'profile_use_background_image': True, 'has_extended_profile': False, 'default_profile': True, 'default_profile_image': False, 'following': None, 'follow_request_sent': None, 'notifications': None, 'translator_type': 'none'}, id=1132188694222319616, id_str='1132188694222319616', name='Abhishek VC', screen_name='vc_abhishek', location='', description='call me abhi\\nwish me on 13 oct\\n#kasrodian\\nFollow me on\\ninstagram\\n@vc_abhishek', url=None, entities={'description': {'urls': []}}, protected=False, followers_count=0, friends_count=18, listed_count=0, created_at=datetime.datetime(2019, 5, 25, 7, 36, 34), favourites_count=22, utc_offset=None, time_zone=None, geo_enabled=False, verified=False, statuses_count=6, lang='en', contributors_enabled=False, is_translator=False, is_translation_enabled=False, profile_background_color='F5F8FA', profile_background_image_url=None, profile_background_image_url_https=None, profile_background_tile=False, profile_image_url='http://pbs.twimg.com/profile_images/1132189104806871040/YuMQGlrb_normal.jpg', profile_image_url_https='https://pbs.twimg.com/profile_images/1132189104806871040/YuMQGlrb_normal.jpg', profile_link_color='1DA1F2', profile_sidebar_border_color='C0DEED', profile_sidebar_fill_color='DDEEF6', profile_text_color='333333', profile_use_background_image=True, has_extended_profile=False, default_profile=True, default_profile_image=False, following=False, follow_request_sent=None, notifications=None, translator_type='none'), geo=None, coordinates=None, place=None, contributors=None, is_quote_status=False, retweet_count=0, favorite_count=1, favorited=False, retweeted=False, lang='en')]"
      ]
     },
     "execution_count": 11,
     "metadata": {},
     "output_type": "execute_result"
    }
   ],
   "source": [
    "results"
   ]
  },
  {
   "cell_type": "code",
   "execution_count": 12,
   "metadata": {},
   "outputs": [],
   "source": [
    " def toDataFrame(tweets):\n",
    "        DataSet = pd.DataFrame()\n",
    "        DataSet['tweetID'] = [tweet.id for tweet in tweets]\n",
    "        DataSet['tweetText'] = [tweet.text for tweet in tweets]\n",
    "        DataSet['tweetRetweetCt'] = [tweet.retweet_count for tweet in tweets]\n",
    "        DataSet['tweetFavoriteCt'] = [tweet.favorite_count for tweet in tweets]\n",
    "        DataSet['tweetSource'] = [tweet.source for tweet in tweets]\n",
    "        DataSet['tweetCreated'] = [tweet.created_at for tweet in tweets]\n",
    "        DataSet['userID'] = [tweet.user.id for tweet in tweets]\n",
    "        DataSet['userScreen'] = [tweet.user.screen_name for tweet in tweets]\n",
    "        DataSet['userName'] = [tweet.user.name for tweet in tweets]\n",
    "        DataSet['userCreateDt'] = [tweet.user.created_at for tweet in tweets]\n",
    "        DataSet['userDesc'] = [tweet.user.description for tweet in tweets]\n",
    "        DataSet['userFollowerCt'] = [tweet.user.followers_count for tweet in tweets]\n",
    "        DataSet['userFriendsCt'] = [tweet.user.friends_count for tweet in tweets]\n",
    "        DataSet['userLocation'] = [tweet.user.location for tweet in tweets]\n",
    "        DataSet['userTimezone'] = [tweet.user.time_zone for tweet in tweets]\n",
    "        return DataSet\n"
   ]
  },
  {
   "cell_type": "code",
   "execution_count": 14,
   "metadata": {},
   "outputs": [
    {
     "data": {
      "text/html": [
       "<div>\n",
       "<style scoped>\n",
       "    .dataframe tbody tr th:only-of-type {\n",
       "        vertical-align: middle;\n",
       "    }\n",
       "\n",
       "    .dataframe tbody tr th {\n",
       "        vertical-align: top;\n",
       "    }\n",
       "\n",
       "    .dataframe thead th {\n",
       "        text-align: right;\n",
       "    }\n",
       "</style>\n",
       "<table border=\"1\" class=\"dataframe\">\n",
       "  <thead>\n",
       "    <tr style=\"text-align: right;\">\n",
       "      <th></th>\n",
       "      <th>tweetID</th>\n",
       "      <th>tweetText</th>\n",
       "      <th>tweetRetweetCt</th>\n",
       "      <th>tweetFavoriteCt</th>\n",
       "      <th>tweetSource</th>\n",
       "      <th>tweetCreated</th>\n",
       "      <th>userID</th>\n",
       "      <th>userScreen</th>\n",
       "      <th>userName</th>\n",
       "      <th>userCreateDt</th>\n",
       "      <th>userDesc</th>\n",
       "      <th>userFollowerCt</th>\n",
       "      <th>userFriendsCt</th>\n",
       "      <th>userLocation</th>\n",
       "      <th>userTimezone</th>\n",
       "    </tr>\n",
       "  </thead>\n",
       "  <tbody>\n",
       "    <tr>\n",
       "      <th>0</th>\n",
       "      <td>1134723610491232257</td>\n",
       "      <td>@oneplus I owned one .. \\nPros :\\n1) High qual...</td>\n",
       "      <td>0</td>\n",
       "      <td>1</td>\n",
       "      <td>Twitter for Android</td>\n",
       "      <td>2019-06-01 07:29:25</td>\n",
       "      <td>280503749</td>\n",
       "      <td>skewnith</td>\n",
       "      <td>Vigneswaran Arumugam</td>\n",
       "      <td>2011-04-11 13:16:13</td>\n",
       "      <td>Think well before to follow me</td>\n",
       "      <td>405</td>\n",
       "      <td>834</td>\n",
       "      <td>Madurai</td>\n",
       "      <td>None</td>\n",
       "    </tr>\n",
       "    <tr>\n",
       "      <th>1</th>\n",
       "      <td>1133054302107291649</td>\n",
       "      <td>@oppo I dont love oppo smartphone,its so costl...</td>\n",
       "      <td>0</td>\n",
       "      <td>1</td>\n",
       "      <td>Twitter for Android</td>\n",
       "      <td>2019-05-27 16:56:11</td>\n",
       "      <td>1132188694222319616</td>\n",
       "      <td>vc_abhishek</td>\n",
       "      <td>Abhishek VC</td>\n",
       "      <td>2019-05-25 07:36:34</td>\n",
       "      <td>call me abhi\\nwish me on 13 oct\\n#kasrodian\\nF...</td>\n",
       "      <td>0</td>\n",
       "      <td>18</td>\n",
       "      <td></td>\n",
       "      <td>None</td>\n",
       "    </tr>\n",
       "  </tbody>\n",
       "</table>\n",
       "</div>"
      ],
      "text/plain": [
       "               tweetID                                          tweetText  \\\n",
       "0  1134723610491232257  @oneplus I owned one .. \\nPros :\\n1) High qual...   \n",
       "1  1133054302107291649  @oppo I dont love oppo smartphone,its so costl...   \n",
       "\n",
       "   tweetRetweetCt  tweetFavoriteCt          tweetSource        tweetCreated  \\\n",
       "0               0                1  Twitter for Android 2019-06-01 07:29:25   \n",
       "1               0                1  Twitter for Android 2019-05-27 16:56:11   \n",
       "\n",
       "                userID   userScreen              userName        userCreateDt  \\\n",
       "0            280503749     skewnith  Vigneswaran Arumugam 2011-04-11 13:16:13   \n",
       "1  1132188694222319616  vc_abhishek           Abhishek VC 2019-05-25 07:36:34   \n",
       "\n",
       "                                            userDesc  userFollowerCt  \\\n",
       "0                     Think well before to follow me             405   \n",
       "1  call me abhi\\nwish me on 13 oct\\n#kasrodian\\nF...               0   \n",
       "\n",
       "   userFriendsCt userLocation userTimezone  \n",
       "0            834      Madurai         None  \n",
       "1             18                      None  "
      ]
     },
     "execution_count": 14,
     "metadata": {},
     "output_type": "execute_result"
    }
   ],
   "source": [
    "get_tweets = toDataFrame(results)\n",
    "get_tweets.head(2)\n",
    "    "
   ]
  },
  {
   "cell_type": "code",
   "execution_count": 15,
   "metadata": {},
   "outputs": [
    {
     "name": "stderr",
     "output_type": "stream",
     "text": [
      "C:\\anaconda3\\lib\\site-packages\\sklearn\\base.py:306: UserWarning: Trying to unpickle estimator CountVectorizer from version 0.20.1 when using version 0.21.2. This might lead to breaking code or invalid results. Use at your own risk.\n",
      "  UserWarning)\n"
     ]
    }
   ],
   "source": [
    "get_tweets.dropna(axis=0, how='any', thresh=None, subset=None, inplace=False)\n",
    "count_vectorizer = joblib.load('C:\\\\Users\\\\Kaumudi\\\\Documents\\\\kmd\\\\Sentiment Analysis\\\\LinearSVC\\\\count_vectBig.sav')\n",
    "    "
   ]
  },
  {
   "cell_type": "code",
   "execution_count": 16,
   "metadata": {},
   "outputs": [],
   "source": [
    "get_tweets['NText'] = count_vectorizer.transform(get_tweets['tweetText'])\n"
   ]
  },
  {
   "cell_type": "code",
   "execution_count": 17,
   "metadata": {},
   "outputs": [
    {
     "name": "stdout",
     "output_type": "stream",
     "text": [
      "               tweetID                                          tweetText  \\\n",
      "0  1134723610491232257  @oneplus I owned one .. \\nPros :\\n1) High qual...   \n",
      "1  1133054302107291649  @oppo I dont love oppo smartphone,its so costl...   \n",
      "\n",
      "   tweetRetweetCt  tweetFavoriteCt          tweetSource        tweetCreated  \\\n",
      "0               0                1  Twitter for Android 2019-06-01 07:29:25   \n",
      "1               0                1  Twitter for Android 2019-05-27 16:56:11   \n",
      "\n",
      "                userID   userScreen              userName        userCreateDt  \\\n",
      "0            280503749     skewnith  Vigneswaran Arumugam 2011-04-11 13:16:13   \n",
      "1  1132188694222319616  vc_abhishek           Abhishek VC 2019-05-25 07:36:34   \n",
      "\n",
      "                                            userDesc  userFollowerCt  \\\n",
      "0                     Think well before to follow me             405   \n",
      "1  call me abhi\\nwish me on 13 oct\\n#kasrodian\\nF...               0   \n",
      "\n",
      "   userFriendsCt userLocation userTimezone  \\\n",
      "0            834      Madurai         None   \n",
      "1             18                      None   \n",
      "\n",
      "                                               NText  \n",
      "0    (0, 11773)\\t1\\n  (0, 16626)\\t1\\n  (0, 16705)...  \n",
      "1    (0, 11773)\\t1\\n  (0, 16626)\\t1\\n  (0, 16705)...  \n",
      "--------------------------------------------------\n"
     ]
    }
   ],
   "source": [
    "print(get_tweets)\n",
    "print('--------------------------------------------------')\n",
    "    #get_tweets.head(2)\n",
    "get_tweets['Sentiment'] = 0\n",
    "type(get_tweets)\n",
    "    #get_tweets.shape\n",
    "    #get_tweets.head(2)\n",
    "N1 = get_tweets.shape[0]\n",
    "\n",
    "prob = clf.predict_proba(get_tweets.at[0,'NText'])\n",
    "count = 0\n",
    "    "
   ]
  },
  {
   "cell_type": "code",
   "execution_count": 22,
   "metadata": {},
   "outputs": [
    {
     "name": "stdout",
     "output_type": "stream",
     "text": [
      "[0.06961423 0.23740347 0.6929823 ] 2 \n",
      "\n"
     ]
    }
   ],
   "source": [
    "for i in range(N1-1):\n",
    "    print(prob[i],np.argmax(prob[i]),\"\\n\")\n",
    "    count = count+1\n",
    "    get_tweets['Sentiment'] = np.argmax(prob)\n",
    "\n",
    "    "
   ]
  },
  {
   "cell_type": "code",
   "execution_count": 25,
   "metadata": {},
   "outputs": [],
   "source": [
    " for i in range(count):\n",
    "        get_tweets.at[i,'Sentiment'] = np.argmax(prob[i])\n",
    "\n",
    "    \n"
   ]
  },
  {
   "cell_type": "code",
   "execution_count": 26,
   "metadata": {},
   "outputs": [
    {
     "data": {
      "text/plain": [
       "2    2\n",
       "Name: Sentiment, dtype: int64"
      ]
     },
     "execution_count": 26,
     "metadata": {},
     "output_type": "execute_result"
    }
   ],
   "source": [
    "get_tweets['Sentiment'].value_counts()"
   ]
  },
  {
   "cell_type": "code",
   "execution_count": 31,
   "metadata": {},
   "outputs": [
    {
     "name": "stdout",
     "output_type": "stream",
     "text": [
      "------------ANALYZED TWEETS----------\n"
     ]
    }
   ],
   "source": [
    "print('------------ANALYZED TWEETS----------')\n",
    "pd.options.display.max_colwidth = 500\n"
   ]
  },
  {
   "cell_type": "code",
   "execution_count": 36,
   "metadata": {},
   "outputs": [
    {
     "name": "stdout",
     "output_type": "stream",
     "text": [
      "                                                                                                                                          tweetText  \\\n",
      "0  @oneplus I owned one .. \\nPros :\\n1) High quality clarity loud sound \\n2) good battery life\\n3) voice calls are clearer… https://t.co/qgDFs9YIiC   \n",
      "1      @oppo I dont love oppo smartphone,its so costly,mi is better than this have a good battery life and its available a… https://t.co/VfvSzQSVMK   \n",
      "\n",
      "   Sentiment  \n",
      "0          2  \n",
      "1          2  \n"
     ]
    }
   ],
   "source": [
    " print(get_tweets[['tweetText','Sentiment']])\n",
    "\n",
    "pd.options.mode.chained_assignment = None  # default='warn'\n",
    "\n"
   ]
  },
  {
   "cell_type": "code",
   "execution_count": 37,
   "metadata": {},
   "outputs": [],
   "source": [
    "valuecnts = get_tweets['Sentiment'].value_counts()"
   ]
  },
  {
   "cell_type": "code",
   "execution_count": 38,
   "metadata": {},
   "outputs": [],
   "source": [
    "df0 = valuecnts.rename_axis('sentnames').reset_index(name='counts')"
   ]
  },
  {
   "cell_type": "code",
   "execution_count": 39,
   "metadata": {},
   "outputs": [],
   "source": [
    "df0 = df0[(df0.sentnames<3)]"
   ]
  },
  {
   "cell_type": "code",
   "execution_count": 40,
   "metadata": {},
   "outputs": [
    {
     "name": "stdout",
     "output_type": "stream",
     "text": [
      "debug df0\n"
     ]
    }
   ],
   "source": [
    " print('debug df0')"
   ]
  },
  {
   "cell_type": "code",
   "execution_count": 41,
   "metadata": {},
   "outputs": [
    {
     "name": "stdout",
     "output_type": "stream",
     "text": [
      "   sentnames  counts\n",
      "0          2       2\n"
     ]
    }
   ],
   "source": [
    "print (df0)"
   ]
  },
  {
   "cell_type": "code",
   "execution_count": 42,
   "metadata": {},
   "outputs": [
    {
     "name": "stdout",
     "output_type": "stream",
     "text": [
      "<class 'pandas.core.frame.DataFrame'>\n"
     ]
    }
   ],
   "source": [
    " print(type(df0))"
   ]
  },
  {
   "cell_type": "code",
   "execution_count": 43,
   "metadata": {},
   "outputs": [],
   "source": [
    " df0['sentnames']=df0['sentnames'].replace({0:'Negative',1:'Neutral',2:'Positive'})"
   ]
  },
  {
   "cell_type": "code",
   "execution_count": 44,
   "metadata": {},
   "outputs": [
    {
     "name": "stdout",
     "output_type": "stream",
     "text": [
      "  sentnames  counts\n",
      "0  Negative       0\n"
     ]
    }
   ],
   "source": [
    "if((df0['sentnames']=='Negative').any() == False):\n",
    "        df_sub = pd.DataFrame({'sentnames':['Negative'],'counts':[0]})\n",
    "        print(df_sub)\n",
    "        "
   ]
  },
  {
   "cell_type": "code",
   "execution_count": 45,
   "metadata": {},
   "outputs": [],
   "source": [
    "df0 = df0.append(df_sub)"
   ]
  },
  {
   "cell_type": "code",
   "execution_count": 48,
   "metadata": {},
   "outputs": [],
   "source": [
    "if((df0['sentnames']=='Positive').any() == False):\n",
    "    df_sub = pd.DataFrame({'sentnames':['Positive'],'counts':[0]})\n",
    "    print(df_sub)\n",
    "    df0 = df0.append(df_sub)\n"
   ]
  },
  {
   "cell_type": "code",
   "execution_count": 49,
   "metadata": {},
   "outputs": [
    {
     "name": "stdout",
     "output_type": "stream",
     "text": [
      "  sentnames  counts\n",
      "0   Neutral       0\n"
     ]
    }
   ],
   "source": [
    "if((df0['sentnames']=='Neutral').any() == False):\n",
    "        df_sub = pd.DataFrame({'sentnames':['Neutral'],'counts':[0]})\n",
    "        print(df_sub)\n",
    "        df0 = df0.append(df_sub)\n",
    "    "
   ]
  },
  {
   "cell_type": "code",
   "execution_count": 50,
   "metadata": {},
   "outputs": [
    {
     "name": "stdout",
     "output_type": "stream",
     "text": [
      "  sentnames  counts\n",
      "0  Positive       2\n",
      "0  Negative       0\n",
      "0   Neutral       0\n"
     ]
    }
   ],
   "source": [
    " print(df0)"
   ]
  },
  {
   "cell_type": "code",
   "execution_count": 51,
   "metadata": {},
   "outputs": [],
   "source": [
    "df=df0.sort_values(by=['sentnames'])"
   ]
  },
  {
   "cell_type": "code",
   "execution_count": 52,
   "metadata": {},
   "outputs": [
    {
     "name": "stdout",
     "output_type": "stream",
     "text": [
      "  sentnames  counts\n",
      "0  Negative       0\n",
      "0   Neutral       0\n",
      "0  Positive       2\n"
     ]
    }
   ],
   "source": [
    "print(df)"
   ]
  },
  {
   "cell_type": "code",
   "execution_count": 54,
   "metadata": {},
   "outputs": [
    {
     "data": {
      "text/plain": [
       "<Figure size 2400x1600 with 0 Axes>"
      ]
     },
     "metadata": {},
     "output_type": "display_data"
    }
   ],
   "source": [
    "colors = [\"#F44336\", \"#2196F3\", \"#4CAF50\"]\n",
    "fig = plt.figure(dpi=400)\n"
   ]
  },
  {
   "cell_type": "code",
   "execution_count": 60,
   "metadata": {},
   "outputs": [
    {
     "data": {
      "text/plain": [
       "([<matplotlib.patches.Wedge at 0x203763b1f60>,\n",
       "  <matplotlib.patches.Wedge at 0x2037533a6a0>,\n",
       "  <matplotlib.patches.Wedge at 0x2037533ad68>],\n",
       " [Text(6.735557395310444e-17, 1.1, ''),\n",
       "  Text(6.735557395310444e-17, 1.1, ''),\n",
       "  Text(-2.0206672185931328e-16, -1.1, '')],\n",
       " [Text(3.6739403974420595e-17, 0.6, ''),\n",
       "  Text(3.6739403974420595e-17, 0.6, ''),\n",
       "  Text(-1.1021821192326178e-16, -0.6, '100.00%')])"
      ]
     },
     "execution_count": 60,
     "metadata": {},
     "output_type": "execute_result"
    },
    {
     "data": {
      "image/png": "[encoded data removed]",
      "text/plain": [
       "<Figure size 432x288 with 1 Axes>"
      ]
     },
     "metadata": {},
     "output_type": "display_data"
    }
   ],
   "source": [
    "def my_autopct(pct):\n",
    "    return ('%.2f' % pct)+'%' if pct > 0 else ''\n",
    "plt.pie(\n",
    "        # using data total)arrests\n",
    "        df['counts'],\n",
    "        # with the labels being officer names\n",
    "        #labels=df['sentnames'],\n",
    "        # with no shadows\n",
    "        shadow=False,\n",
    "        # with colors\n",
    "        colors=colors,\n",
    "        # with one slide exploded out\n",
    "        #explode=(0, 0, 0, 0, 0.15),\n",
    "        # with the start angle at 90%\n",
    "        startangle=90,\n",
    "        # with the percent listed as a fraction\n",
    "        #autopct='%1.2f%%',\n",
    "        autopct=my_autopct,\n",
    "        )\n",
    "\n",
    "\n"
   ]
  },
  {
   "cell_type": "code",
   "execution_count": 61,
   "metadata": {},
   "outputs": [
    {
     "data": {
      "text/plain": [
       "<matplotlib.legend.Legend at 0x20376a710f0>"
      ]
     },
     "execution_count": 61,
     "metadata": {},
     "output_type": "execute_result"
    },
    {
     "data": {
      "image/png": "[encoded data removed]",
      "text/plain": [
       "<Figure size 432x288 with 1 Axes>"
      ]
     },
     "metadata": {
      "needs_background": "light"
     },
     "output_type": "display_data"
    }
   ],
   "source": [
    "plt.legend(df['sentnames'], bbox_to_anchor=(1,0), loc=\"lower right\", bbox_transform=plt.gcf().transFigure)"
   ]
  },
  {
   "cell_type": "code",
   "execution_count": 65,
   "metadata": {},
   "outputs": [],
   "source": [
    "fig\n",
    "fig.savefig('C:\\\\Users\\\\Kaumudi\\\\Documents\\\\kmd\\\\Sentiment Analysis\\\\LinearSVC\\\\dango\\\\assets\\\\pie.png', dpi=fig.dpi, transparent = True)\n"
   ]
  },
  {
   "cell_type": "code",
   "execution_count": 66,
   "metadata": {},
   "outputs": [
    {
     "data": {
      "image/png": "[encoded data removed]",
      "text/plain": [
       "<Figure size 432x288 with 1 Axes>"
      ]
     },
     "metadata": {
      "needs_background": "light"
     },
     "output_type": "display_data"
    }
   ],
   "source": [
    "timeGraph = get_tweets.plot('tweetCreated','Sentiment').get_figure()"
   ]
  },
  {
   "cell_type": "code",
   "execution_count": 67,
   "metadata": {},
   "outputs": [],
   "source": [
    "timeGraph.savefig('C:\\\\Users\\\\Kaumudi\\\\Documents\\\\kmd\\\\Sentiment Analysis\\\\LinearSVC\\\\dango\\\\assets\\\\graph.png', dpi=fig.dpi, transparent = True)"
   ]
  },
  {
   "cell_type": "code",
   "execution_count": 68,
   "metadata": {},
   "outputs": [
    {
     "data": {
      "text/plain": [
       "<matplotlib.legend.Legend at 0x203768fcf98>"
      ]
     },
     "execution_count": 68,
     "metadata": {},
     "output_type": "execute_result"
    }
   ],
   "source": [
    "timeGraph.legend(loc='lower left', bbox_to_anchor= (0.0, 2.01))"
   ]
  },
  {
   "cell_type": "code",
   "execution_count": 69,
   "metadata": {},
   "outputs": [
    {
     "data": {
      "image/png": "[encoded data removed]",
      "text/plain": [
       "<Figure size 432x288 with 1 Axes>"
      ]
     },
     "execution_count": 69,
     "metadata": {},
     "output_type": "execute_result"
    }
   ],
   "source": [
    "timeGraph"
   ]
  },
  {
   "cell_type": "code",
   "execution_count": null,
   "metadata": {},
   "outputs": [],
   "source": []
  }
 ],
 "metadata": {
  "kernelspec": {
   "display_name": "Python 3",
   "language": "python",
   "name": "python3"
  },
  "language_info": {
   "codemirror_mode": {
    "name": "ipython",
    "version": 3
   },
   "file_extension": ".py",
   "mimetype": "text/x-python",
   "name": "python",
   "nbconvert_exporter": "python",
   "pygments_lexer": "ipython3",
   "version": "3.7.1"
  }
 },
 "nbformat": 4,
 "nbformat_minor": 2
}
