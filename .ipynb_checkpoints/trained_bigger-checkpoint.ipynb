{
 "cells": [
  {
   "cell_type": "code",
   "execution_count": 1,
   "metadata": {},
   "outputs": [
    {
     "data": {
      "text/plain": [
       "['tweet_text', 'tweet_emotion']"
      ]
     },
     "execution_count": 1,
     "metadata": {},
     "output_type": "execute_result"
    }
   ],
   "source": [
    "import pandas as pd\n",
    "tweets = pd.read_csv(\"C:\\\\Users\\\\Kaumudi\\\\Documents\\\\kmd\\\\Sentiment Analysis\\\\LinearSVC\\\\labelled.csv\",encoding = \"ISO-8859-1\")\n",
    "list(tweets.columns.values)"
   ]
  },
  {
   "cell_type": "code",
   "execution_count": 2,
   "metadata": {
    "scrolled": true
   },
   "outputs": [
    {
     "name": "stdout",
     "output_type": "stream",
     "text": [
      "No emotion toward brand or product    5384\n",
      "Positive emotion                      3476\n",
      "Negative emotion                      1070\n",
      "I can't tell                           156\n",
      "Name: tweet_emotion, dtype: int64\n"
     ]
    }
   ],
   "source": [
    "sentiment_counts = tweets.tweet_emotion.value_counts()\n",
    "number_of_tweets = tweets.tweet_text.count()\n",
    "print(sentiment_counts)"
   ]
  },
  {
   "cell_type": "code",
   "execution_count": 3,
   "metadata": {},
   "outputs": [
    {
     "data": {
      "text/plain": [
       "(9930, 2)"
      ]
     },
     "execution_count": 3,
     "metadata": {},
     "output_type": "execute_result"
    }
   ],
   "source": [
    "tweets = tweets[tweets.tweet_emotion != 'I can\\'t tell']\n",
    "tweets.shape"
   ]
  },
  {
   "cell_type": "code",
   "execution_count": 4,
   "metadata": {},
   "outputs": [
    {
     "name": "stdout",
     "output_type": "stream",
     "text": [
      "No emotion toward brand or product    5384\n",
      "Positive emotion                      3476\n",
      "Negative emotion                      1070\n",
      "Name: tweet_emotion, dtype: int64\n"
     ]
    }
   ],
   "source": [
    "sentiment_counts = tweets.tweet_emotion.value_counts()\n",
    "number_of_tweets = tweets.tweet_text.count()\n",
    "print(sentiment_counts)"
   ]
  },
  {
   "cell_type": "code",
   "execution_count": 5,
   "metadata": {},
   "outputs": [],
   "source": [
    "import re, nltk\n",
    "from nltk.stem import WordNetLemmatizer\n",
    "from nltk.corpus import stopwords\n",
    "stop_words = set(stopwords.words('english'))\n",
    "wordnet_lemmatizer = WordNetLemmatizer()"
   ]
  },
  {
   "cell_type": "code",
   "execution_count": 6,
   "metadata": {},
   "outputs": [],
   "source": [
    "def normalizer(tweet):\n",
    "    only_letters = re.sub(\"[^a-zA-Z]\", \" \",str(tweet)) \n",
    "    tokens = nltk.word_tokenize(only_letters)\n",
    "    lower_case = [l.lower() for l in tokens]\n",
    "    filtered_result = list(filter(lambda l: l not in stop_words, lower_case))\n",
    "    lemmas = [wordnet_lemmatizer.lemmatize(t) for t in filtered_result]\n",
    "    return lemmas"
   ]
  },
  {
   "cell_type": "code",
   "execution_count": 7,
   "metadata": {},
   "outputs": [
    {
     "data": {
      "text/html": [
       "<div>\n",
       "<style scoped>\n",
       "    .dataframe tbody tr th:only-of-type {\n",
       "        vertical-align: middle;\n",
       "    }\n",
       "\n",
       "    .dataframe tbody tr th {\n",
       "        vertical-align: top;\n",
       "    }\n",
       "\n",
       "    .dataframe thead th {\n",
       "        text-align: right;\n",
       "    }\n",
       "</style>\n",
       "<table border=\"1\" class=\"dataframe\">\n",
       "  <thead>\n",
       "    <tr style=\"text-align: right;\">\n",
       "      <th></th>\n",
       "      <th>tweet_text</th>\n",
       "      <th>normalized_tweet</th>\n",
       "    </tr>\n",
       "  </thead>\n",
       "  <tbody>\n",
       "    <tr>\n",
       "      <th>0</th>\n",
       "      <td>So there is no way for me to plug it in here in the US unless I go by a converter.</td>\n",
       "      <td>[way, plug, u, unless, go, converter]</td>\n",
       "    </tr>\n",
       "    <tr>\n",
       "      <th>1</th>\n",
       "      <td>Good case  Excellent value.</td>\n",
       "      <td>[good, case, excellent, value]</td>\n",
       "    </tr>\n",
       "    <tr>\n",
       "      <th>2</th>\n",
       "      <td>Tied to charger for conversations lasting more than 45 minutes.MAJOR PROBLEMS!!</td>\n",
       "      <td>[tied, charger, conversation, lasting, minute, major, problem]</td>\n",
       "    </tr>\n",
       "    <tr>\n",
       "      <th>3</th>\n",
       "      <td>The mic is great.</td>\n",
       "      <td>[mic, great]</td>\n",
       "    </tr>\n",
       "    <tr>\n",
       "      <th>4</th>\n",
       "      <td>I have to jiggle the plug to get it to line up right to get decent volume.</td>\n",
       "      <td>[jiggle, plug, get, line, right, get, decent, volume]</td>\n",
       "    </tr>\n",
       "  </tbody>\n",
       "</table>\n",
       "</div>"
      ],
      "text/plain": [
       "                                                                           tweet_text  \\\n",
       "0  So there is no way for me to plug it in here in the US unless I go by a converter.   \n",
       "1  Good case  Excellent value.                                                          \n",
       "2  Tied to charger for conversations lasting more than 45 minutes.MAJOR PROBLEMS!!      \n",
       "3  The mic is great.                                                                    \n",
       "4  I have to jiggle the plug to get it to line up right to get decent volume.           \n",
       "\n",
       "                                                 normalized_tweet  \n",
       "0  [way, plug, u, unless, go, converter]                           \n",
       "1  [good, case, excellent, value]                                  \n",
       "2  [tied, charger, conversation, lasting, minute, major, problem]  \n",
       "3  [mic, great]                                                    \n",
       "4  [jiggle, plug, get, line, right, get, decent, volume]           "
      ]
     },
     "execution_count": 7,
     "metadata": {},
     "output_type": "execute_result"
    }
   ],
   "source": [
    "pd.set_option('display.max_colwidth', -1) # Setting this so we can see the full content of cells\n",
    "tweets['normalized_tweet'] = tweets.tweet_text.apply(normalizer)\n",
    "tweets[['tweet_text','normalized_tweet']].head()"
   ]
  },
  {
   "cell_type": "code",
   "execution_count": 8,
   "metadata": {},
   "outputs": [
    {
     "data": {
      "text/html": [
       "<div>\n",
       "<style scoped>\n",
       "    .dataframe tbody tr th:only-of-type {\n",
       "        vertical-align: middle;\n",
       "    }\n",
       "\n",
       "    .dataframe tbody tr th {\n",
       "        vertical-align: top;\n",
       "    }\n",
       "\n",
       "    .dataframe thead th {\n",
       "        text-align: right;\n",
       "    }\n",
       "</style>\n",
       "<table border=\"1\" class=\"dataframe\">\n",
       "  <thead>\n",
       "    <tr style=\"text-align: right;\">\n",
       "      <th></th>\n",
       "      <th>grams</th>\n",
       "    </tr>\n",
       "  </thead>\n",
       "  <tbody>\n",
       "    <tr>\n",
       "      <th>0</th>\n",
       "      <td>[way plug, plug u, u unless, unless go, go converter, way plug u, plug u unless, u unless go, unless go converter]</td>\n",
       "    </tr>\n",
       "    <tr>\n",
       "      <th>1</th>\n",
       "      <td>[good case, case excellent, excellent value, good case excellent, case excellent value]</td>\n",
       "    </tr>\n",
       "    <tr>\n",
       "      <th>2</th>\n",
       "      <td>[tied charger, charger conversation, conversation lasting, lasting minute, minute major, major problem, tied charger conversation, charger conversation lasting, conversation lasting minute, lasting minute major, minute major problem]</td>\n",
       "    </tr>\n",
       "    <tr>\n",
       "      <th>3</th>\n",
       "      <td>[mic great]</td>\n",
       "    </tr>\n",
       "    <tr>\n",
       "      <th>4</th>\n",
       "      <td>[jiggle plug, plug get, get line, line right, right get, get decent, decent volume, jiggle plug get, plug get line, get line right, line right get, right get decent, get decent volume]</td>\n",
       "    </tr>\n",
       "  </tbody>\n",
       "</table>\n",
       "</div>"
      ],
      "text/plain": [
       "                                                                                                                                                                                                                                       grams\n",
       "0  [way plug, plug u, u unless, unless go, go converter, way plug u, plug u unless, u unless go, unless go converter]                                                                                                                       \n",
       "1  [good case, case excellent, excellent value, good case excellent, case excellent value]                                                                                                                                                  \n",
       "2  [tied charger, charger conversation, conversation lasting, lasting minute, minute major, major problem, tied charger conversation, charger conversation lasting, conversation lasting minute, lasting minute major, minute major problem]\n",
       "3  [mic great]                                                                                                                                                                                                                              \n",
       "4  [jiggle plug, plug get, get line, line right, right get, get decent, decent volume, jiggle plug get, plug get line, get line right, line right get, right get decent, get decent volume]                                                 "
      ]
     },
     "execution_count": 8,
     "metadata": {},
     "output_type": "execute_result"
    }
   ],
   "source": [
    "from nltk import ngrams\n",
    "def ngrams(input_list):\n",
    "    #onegrams = input_list\n",
    "    bigrams = [' '.join(t) for t in list(zip(input_list, input_list[1:]))]\n",
    "    trigrams = [' '.join(t) for t in list(zip(input_list, input_list[1:], input_list[2:]))]\n",
    "    return bigrams+trigrams\n",
    "tweets['grams'] = tweets.normalized_tweet.apply(ngrams)\n",
    "tweets[['grams']].head()"
   ]
  },
  {
   "cell_type": "code",
   "execution_count": 9,
   "metadata": {},
   "outputs": [],
   "source": [
    "import collections\n",
    "def count_words(input):\n",
    "    cnt = collections.Counter()\n",
    "    for row in input:\n",
    "        for word in row:\n",
    "            cnt[word] += 1\n",
    "    return cnt"
   ]
  },
  {
   "cell_type": "code",
   "execution_count": 10,
   "metadata": {},
   "outputs": [
    {
     "data": {
      "text/plain": [
       "[('rt mention', 908),\n",
       " ('sxsw link', 314),\n",
       " ('apple store', 226),\n",
       " ('mention sxsw', 224),\n",
       " ('link sxsw', 170),\n",
       " ('mention mention', 151),\n",
       " ('iphone app', 136),\n",
       " ('pop store', 132),\n",
       " ('store sxsw', 122),\n",
       " ('ipad sxsw', 120),\n",
       " ('via mention', 113),\n",
       " ('mention google', 105),\n",
       " ('austin sxsw', 103),\n",
       " ('sxsw apple', 101),\n",
       " ('mention apple', 91),\n",
       " ('sxsw ipad', 89),\n",
       " ('google map', 87),\n",
       " ('social network', 86),\n",
       " ('apple pop', 79),\n",
       " ('link via', 79)]"
      ]
     },
     "execution_count": 10,
     "metadata": {},
     "output_type": "execute_result"
    }
   ],
   "source": [
    "tweets[(tweets.tweet_emotion == 'Positive emotion')][['grams']].apply(count_words)['grams'].most_common(20)"
   ]
  },
  {
   "cell_type": "code",
   "execution_count": 11,
   "metadata": {},
   "outputs": [
    {
     "data": {
      "text/plain": [
       "[('rt mention', 138),\n",
       " ('mention sxsw', 33),\n",
       " ('apple store', 25),\n",
       " ('sxsw link', 24),\n",
       " ('link sxsw', 24),\n",
       " ('iphone app', 23),\n",
       " ('mention google', 23),\n",
       " ('ipad design', 20),\n",
       " ('mention mention', 20),\n",
       " ('ipad sxsw', 18),\n",
       " ('rt mention google', 18),\n",
       " ('design headache', 17),\n",
       " ('google circle', 16),\n",
       " ('ipad design headache', 16),\n",
       " ('new social', 16),\n",
       " ('mention quot', 16),\n",
       " ('social network', 15),\n",
       " ('quot sxsw', 15),\n",
       " ('iphone sxsw', 15),\n",
       " ('news apps', 13)]"
      ]
     },
     "execution_count": 11,
     "metadata": {},
     "output_type": "execute_result"
    }
   ],
   "source": [
    "tweets[(tweets.tweet_emotion == 'Negative emotion')][['grams']].apply(count_words)['grams'].most_common(20)"
   ]
  },
  {
   "cell_type": "code",
   "execution_count": 12,
   "metadata": {},
   "outputs": [
    {
     "data": {
      "text/plain": [
       "[('rt mention', 1808),\n",
       " ('sxsw link', 577),\n",
       " ('link sxsw', 575),\n",
       " ('mention mention', 433),\n",
       " ('social network', 350),\n",
       " ('apple store', 344),\n",
       " ('mention sxsw', 334),\n",
       " ('mention google', 328),\n",
       " ('new social', 319),\n",
       " ('new social network', 298),\n",
       " ('google launch', 252),\n",
       " ('network called', 252),\n",
       " ('social network called', 252),\n",
       " ('called circle', 244),\n",
       " ('network called circle', 240),\n",
       " ('via mention', 226),\n",
       " ('major new', 225),\n",
       " ('major new social', 225),\n",
       " ('launch major', 219),\n",
       " ('launch major new', 219)]"
      ]
     },
     "execution_count": 12,
     "metadata": {},
     "output_type": "execute_result"
    }
   ],
   "source": [
    "tweets[(tweets.tweet_emotion == 'No emotion toward brand or product')][['grams']].apply(count_words)['grams'].most_common(20)"
   ]
  },
  {
   "cell_type": "code",
   "execution_count": 17,
   "metadata": {},
   "outputs": [],
   "source": [
    "import numpy as np\n",
    "from scipy.sparse import hstack\n",
    "from sklearn.feature_extraction.text import CountVectorizer\n",
    "count_vectorizer = CountVectorizer(ngram_range=(1,2))"
   ]
  },
  {
   "cell_type": "code",
   "execution_count": 18,
   "metadata": {},
   "outputs": [],
   "source": [
    "vectorized_data = count_vectorizer.fit_transform(tweets.tweet_text.astype(str))"
   ]
  },
  {
   "cell_type": "code",
   "execution_count": 19,
   "metadata": {},
   "outputs": [
    {
     "data": {
      "text/plain": [
       "['count_vectBig.sav']"
      ]
     },
     "execution_count": 19,
     "metadata": {},
     "output_type": "execute_result"
    }
   ],
   "source": [
    "import joblib\n",
    "file = 'count_vectBig.sav'\n",
    "joblib.dump(count_vectorizer, file)"
   ]
  },
  {
   "cell_type": "code",
   "execution_count": 20,
   "metadata": {},
   "outputs": [],
   "source": [
    "#vectorized_data = count_vectorizer.fit_transform(tweets.tweet_text.astype(str))\n",
    "indexed_data = hstack((np.array(range(0,vectorized_data.shape[0]))[:,None], vectorized_data))"
   ]
  },
  {
   "cell_type": "code",
   "execution_count": 21,
   "metadata": {},
   "outputs": [
    {
     "data": {
      "text/plain": [
       "(9930, 4)"
      ]
     },
     "execution_count": 21,
     "metadata": {},
     "output_type": "execute_result"
    }
   ],
   "source": [
    "tweets.shape"
   ]
  },
  {
   "cell_type": "code",
   "execution_count": 22,
   "metadata": {},
   "outputs": [
    {
     "data": {
      "text/plain": [
       "(9930, 4)"
      ]
     },
     "execution_count": 22,
     "metadata": {},
     "output_type": "execute_result"
    }
   ],
   "source": [
    "tweets = tweets[tweets.tweet_emotion != 'I can\\'t tell']\n",
    "tweets.shape"
   ]
  },
  {
   "cell_type": "code",
   "execution_count": 23,
   "metadata": {},
   "outputs": [
    {
     "data": {
      "text/html": [
       "<div>\n",
       "<style scoped>\n",
       "    .dataframe tbody tr th:only-of-type {\n",
       "        vertical-align: middle;\n",
       "    }\n",
       "\n",
       "    .dataframe tbody tr th {\n",
       "        vertical-align: top;\n",
       "    }\n",
       "\n",
       "    .dataframe thead th {\n",
       "        text-align: right;\n",
       "    }\n",
       "</style>\n",
       "<table border=\"1\" class=\"dataframe\">\n",
       "  <thead>\n",
       "    <tr style=\"text-align: right;\">\n",
       "      <th></th>\n",
       "      <th>tweet_text</th>\n",
       "      <th>tweet_emotion</th>\n",
       "      <th>normalized_tweet</th>\n",
       "      <th>grams</th>\n",
       "    </tr>\n",
       "  </thead>\n",
       "  <tbody>\n",
       "    <tr>\n",
       "      <th>0</th>\n",
       "      <td>So there is no way for me to plug it in here in the US unless I go by a converter.</td>\n",
       "      <td>Negative emotion</td>\n",
       "      <td>[way, plug, u, unless, go, converter]</td>\n",
       "      <td>[way plug, plug u, u unless, unless go, go converter, way plug u, plug u unless, u unless go, unless go converter]</td>\n",
       "    </tr>\n",
       "    <tr>\n",
       "      <th>1</th>\n",
       "      <td>Good case  Excellent value.</td>\n",
       "      <td>Positive emotion</td>\n",
       "      <td>[good, case, excellent, value]</td>\n",
       "      <td>[good case, case excellent, excellent value, good case excellent, case excellent value]</td>\n",
       "    </tr>\n",
       "    <tr>\n",
       "      <th>2</th>\n",
       "      <td>Tied to charger for conversations lasting more than 45 minutes.MAJOR PROBLEMS!!</td>\n",
       "      <td>Negative emotion</td>\n",
       "      <td>[tied, charger, conversation, lasting, minute, major, problem]</td>\n",
       "      <td>[tied charger, charger conversation, conversation lasting, lasting minute, minute major, major problem, tied charger conversation, charger conversation lasting, conversation lasting minute, lasting minute major, minute major problem]</td>\n",
       "    </tr>\n",
       "    <tr>\n",
       "      <th>3</th>\n",
       "      <td>The mic is great.</td>\n",
       "      <td>Positive emotion</td>\n",
       "      <td>[mic, great]</td>\n",
       "      <td>[mic great]</td>\n",
       "    </tr>\n",
       "    <tr>\n",
       "      <th>4</th>\n",
       "      <td>I have to jiggle the plug to get it to line up right to get decent volume.</td>\n",
       "      <td>Negative emotion</td>\n",
       "      <td>[jiggle, plug, get, line, right, get, decent, volume]</td>\n",
       "      <td>[jiggle plug, plug get, get line, line right, right get, get decent, decent volume, jiggle plug get, plug get line, get line right, line right get, right get decent, get decent volume]</td>\n",
       "    </tr>\n",
       "  </tbody>\n",
       "</table>\n",
       "</div>"
      ],
      "text/plain": [
       "                                                                           tweet_text  \\\n",
       "0  So there is no way for me to plug it in here in the US unless I go by a converter.   \n",
       "1  Good case  Excellent value.                                                          \n",
       "2  Tied to charger for conversations lasting more than 45 minutes.MAJOR PROBLEMS!!      \n",
       "3  The mic is great.                                                                    \n",
       "4  I have to jiggle the plug to get it to line up right to get decent volume.           \n",
       "\n",
       "      tweet_emotion  \\\n",
       "0  Negative emotion   \n",
       "1  Positive emotion   \n",
       "2  Negative emotion   \n",
       "3  Positive emotion   \n",
       "4  Negative emotion   \n",
       "\n",
       "                                                 normalized_tweet  \\\n",
       "0  [way, plug, u, unless, go, converter]                            \n",
       "1  [good, case, excellent, value]                                   \n",
       "2  [tied, charger, conversation, lasting, minute, major, problem]   \n",
       "3  [mic, great]                                                     \n",
       "4  [jiggle, plug, get, line, right, get, decent, volume]            \n",
       "\n",
       "                                                                                                                                                                                                                                       grams  \n",
       "0  [way plug, plug u, u unless, unless go, go converter, way plug u, plug u unless, u unless go, unless go converter]                                                                                                                         \n",
       "1  [good case, case excellent, excellent value, good case excellent, case excellent value]                                                                                                                                                    \n",
       "2  [tied charger, charger conversation, conversation lasting, lasting minute, minute major, major problem, tied charger conversation, charger conversation lasting, conversation lasting minute, lasting minute major, minute major problem]  \n",
       "3  [mic great]                                                                                                                                                                                                                                \n",
       "4  [jiggle plug, plug get, get line, line right, right get, get decent, decent volume, jiggle plug get, plug get line, get line right, line right get, right get decent, get decent volume]                                                   "
      ]
     },
     "execution_count": 23,
     "metadata": {},
     "output_type": "execute_result"
    }
   ],
   "source": [
    "tweets.head(5)"
   ]
  },
  {
   "cell_type": "code",
   "execution_count": 24,
   "metadata": {},
   "outputs": [],
   "source": [
    "def sentiment2target(sentiment):\n",
    "    return {\n",
    "        #'1': 0,\n",
    "        'Negative emotion': 0,\n",
    "        'No emotion toward brand or product': 1,\n",
    "        #'I can\\'t tell': 1,\n",
    "        'Positive emotion' : 2,\n",
    "        #1: 0,\n",
    "        #'3': 1,\n",
    "        #'5': 2,\n",
    "        #'not_relevant': 1,\n",
    "    }[sentiment]\n",
    "targets = tweets.tweet_emotion.apply(sentiment2target)"
   ]
  },
  {
   "cell_type": "code",
   "execution_count": 25,
   "metadata": {},
   "outputs": [
    {
     "data": {
      "text/plain": [
       "(9930,)"
      ]
     },
     "execution_count": 25,
     "metadata": {},
     "output_type": "execute_result"
    }
   ],
   "source": [
    "targets.shape"
   ]
  },
  {
   "cell_type": "code",
   "execution_count": 26,
   "metadata": {},
   "outputs": [],
   "source": [
    "from sklearn.model_selection import train_test_split\n",
    "data_train, data_test, targets_train, targets_test = train_test_split(indexed_data, targets, test_size=0.2, random_state=0)\n",
    "data_train_index = data_train[:,0]\n",
    "data_train = data_train[:,1:]\n",
    "data_test_index = data_test[:,0]\n",
    "data_test = data_test[:,1:]"
   ]
  },
  {
   "cell_type": "code",
   "execution_count": 27,
   "metadata": {},
   "outputs": [],
   "source": [
    "from sklearn import svm\n",
    "from sklearn.multiclass import OneVsRestClassifier\n",
    "clf = OneVsRestClassifier(svm.SVC(gamma='auto', C=1., probability=True, class_weight='balanced', kernel='linear'))\n",
    "clf_output = clf.fit(data_train, targets_train)"
   ]
  },
  {
   "cell_type": "code",
   "execution_count": 28,
   "metadata": {},
   "outputs": [
    {
     "data": {
      "text/plain": [
       "0.6968781470292045"
      ]
     },
     "execution_count": 28,
     "metadata": {},
     "output_type": "execute_result"
    }
   ],
   "source": [
    "clf.score(data_test, targets_test)"
   ]
  },
  {
   "cell_type": "code",
   "execution_count": 29,
   "metadata": {},
   "outputs": [
    {
     "data": {
      "text/plain": [
       "['trained_modelBig.sav']"
      ]
     },
     "execution_count": 29,
     "metadata": {},
     "output_type": "execute_result"
    }
   ],
   "source": [
    "file = 'trained_modelBig.sav'\n",
    "joblib.dump(clf, file)"
   ]
  }
 ],
 "metadata": {
  "kernelspec": {
   "display_name": "Python 3",
   "language": "python",
   "name": "python3"
  },
  "language_info": {
   "codemirror_mode": {
    "name": "ipython",
    "version": 3
   },
   "file_extension": ".py",
   "mimetype": "text/x-python",
   "name": "python",
   "nbconvert_exporter": "python",
   "pygments_lexer": "ipython3",
   "version": "3.7.1"
  }
 },
 "nbformat": 4,
 "nbformat_minor": 2
}
