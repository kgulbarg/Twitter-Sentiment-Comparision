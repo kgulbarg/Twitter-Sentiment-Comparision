{
 "cells": [
  {
   "cell_type": "code",
   "execution_count": 153,
   "metadata": {},
   "outputs": [
    {
     "data": {
      "text/plain": [
       "['tweet_text', 'tweet_emotion']"
      ]
     },
     "execution_count": 153,
     "metadata": {},
     "output_type": "execute_result"
    }
   ],
   "source": [
    "import pandas as pd\n",
    "tweets = pd.read_csv(\"C:\\\\Users\\\\Kaumudi\\\\Documents\\\\kmd\\\\Sentiment Analysis\\\\LinearSVC\\\\labelled.csv\",encoding = \"ISO-8859-1\")\n",
    "list(tweets.columns.values)"
   ]
  },
  {
   "cell_type": "code",
   "execution_count": 154,
   "metadata": {},
   "outputs": [
    {
     "name": "stdout",
     "output_type": "stream",
     "text": [
      "No emotion toward brand or product    5384\n",
      "Positive emotion                      3476\n",
      "Negative emotion                      1070\n",
      "I can't tell                          156 \n",
      "Name: tweet_emotion, dtype: int64\n"
     ]
    }
   ],
   "source": [
    "sentiment_counts = tweets.tweet_emotion.value_counts()\n",
    "number_of_tweets = tweets.tweet_text.count()\n",
    "print(sentiment_counts)"
   ]
  },
  {
   "cell_type": "code",
   "execution_count": 155,
   "metadata": {},
   "outputs": [
    {
     "data": {
      "text/plain": [
       "(9930, 2)"
      ]
     },
     "execution_count": 155,
     "metadata": {},
     "output_type": "execute_result"
    }
   ],
   "source": [
    "tweets = tweets[tweets.tweet_emotion != 'I can\\'t tell']\n",
    "tweets.shape"
   ]
  },
  {
   "cell_type": "code",
   "execution_count": 156,
   "metadata": {},
   "outputs": [
    {
     "name": "stdout",
     "output_type": "stream",
     "text": [
      "No emotion toward brand or product    5384\n",
      "Positive emotion                      3476\n",
      "Negative emotion                      1070\n",
      "Name: tweet_emotion, dtype: int64\n"
     ]
    }
   ],
   "source": [
    "sentiment_counts = tweets.tweet_emotion.value_counts()\n",
    "number_of_tweets = tweets.tweet_text.count()\n",
    "print(sentiment_counts)"
   ]
  },
  {
   "cell_type": "code",
   "execution_count": 157,
   "metadata": {},
   "outputs": [],
   "source": [
    "import re, nltk\n",
    "from nltk.stem import WordNetLemmatizer\n",
    "from nltk.corpus import stopwords\n",
    "stop_words = set(stopwords.words('english'))\n",
    "wordnet_lemmatizer = WordNetLemmatizer()"
   ]
  },
  {
   "cell_type": "code",
   "execution_count": 158,
   "metadata": {},
   "outputs": [],
   "source": [
    "def normalizer(tweet):\n",
    "    only_letters = re.sub(\"[^a-zA-Z]\", \" \",str(tweet)) \n",
    "    tokens = nltk.word_tokenize(only_letters)[2:]\n",
    "    lower_case = [l.lower() for l in tokens]\n",
    "    filtered_result = list(filter(lambda l: l not in stop_words, lower_case))\n",
    "    lemmas = [wordnet_lemmatizer.lemmatize(t) for t in filtered_result]\n",
    "    return lemmas"
   ]
  },
  {
   "cell_type": "code",
   "execution_count": 159,
   "metadata": {},
   "outputs": [
    {
     "data": {
      "text/html": [
       "<div>\n",
       "<style scoped>\n",
       "    .dataframe tbody tr th:only-of-type {\n",
       "        vertical-align: middle;\n",
       "    }\n",
       "\n",
       "    .dataframe tbody tr th {\n",
       "        vertical-align: top;\n",
       "    }\n",
       "\n",
       "    .dataframe thead th {\n",
       "        text-align: right;\n",
       "    }\n",
       "</style>\n",
       "<table border=\"1\" class=\"dataframe\">\n",
       "  <thead>\n",
       "    <tr style=\"text-align: right;\">\n",
       "      <th></th>\n",
       "      <th>tweet_text</th>\n",
       "      <th>normalized_tweet</th>\n",
       "    </tr>\n",
       "  </thead>\n",
       "  <tbody>\n",
       "    <tr>\n",
       "      <th>0</th>\n",
       "      <td>So there is no way for me to plug it in here in the US unless I go by a converter.</td>\n",
       "      <td>[way, plug, u, unless, go, converter]</td>\n",
       "    </tr>\n",
       "    <tr>\n",
       "      <th>1</th>\n",
       "      <td>Good case  Excellent value.</td>\n",
       "      <td>[excellent, value]</td>\n",
       "    </tr>\n",
       "    <tr>\n",
       "      <th>2</th>\n",
       "      <td>Tied to charger for conversations lasting more than 45 minutes.MAJOR PROBLEMS!!</td>\n",
       "      <td>[charger, conversation, lasting, minute, major, problem]</td>\n",
       "    </tr>\n",
       "    <tr>\n",
       "      <th>3</th>\n",
       "      <td>The mic is great.</td>\n",
       "      <td>[great]</td>\n",
       "    </tr>\n",
       "    <tr>\n",
       "      <th>4</th>\n",
       "      <td>I have to jiggle the plug to get it to line up right to get decent volume.</td>\n",
       "      <td>[jiggle, plug, get, line, right, get, decent, volume]</td>\n",
       "    </tr>\n",
       "  </tbody>\n",
       "</table>\n",
       "</div>"
      ],
      "text/plain": [
       "                                                                           tweet_text  \\\n",
       "0  So there is no way for me to plug it in here in the US unless I go by a converter.   \n",
       "1  Good case  Excellent value.                                                          \n",
       "2  Tied to charger for conversations lasting more than 45 minutes.MAJOR PROBLEMS!!      \n",
       "3  The mic is great.                                                                    \n",
       "4  I have to jiggle the plug to get it to line up right to get decent volume.           \n",
       "\n",
       "                                           normalized_tweet  \n",
       "0  [way, plug, u, unless, go, converter]                     \n",
       "1  [excellent, value]                                        \n",
       "2  [charger, conversation, lasting, minute, major, problem]  \n",
       "3  [great]                                                   \n",
       "4  [jiggle, plug, get, line, right, get, decent, volume]     "
      ]
     },
     "execution_count": 159,
     "metadata": {},
     "output_type": "execute_result"
    }
   ],
   "source": [
    "pd.set_option('display.max_colwidth', -1) # Setting this so we can see the full content of cells\n",
    "tweets['normalized_tweet'] = tweets.tweet_text.apply(normalizer)\n",
    "tweets[['tweet_text','normalized_tweet']].head()"
   ]
  },
  {
   "cell_type": "code",
   "execution_count": 160,
   "metadata": {},
   "outputs": [
    {
     "data": {
      "text/html": [
       "<div>\n",
       "<style scoped>\n",
       "    .dataframe tbody tr th:only-of-type {\n",
       "        vertical-align: middle;\n",
       "    }\n",
       "\n",
       "    .dataframe tbody tr th {\n",
       "        vertical-align: top;\n",
       "    }\n",
       "\n",
       "    .dataframe thead th {\n",
       "        text-align: right;\n",
       "    }\n",
       "</style>\n",
       "<table border=\"1\" class=\"dataframe\">\n",
       "  <thead>\n",
       "    <tr style=\"text-align: right;\">\n",
       "      <th></th>\n",
       "      <th>grams</th>\n",
       "    </tr>\n",
       "  </thead>\n",
       "  <tbody>\n",
       "    <tr>\n",
       "      <th>0</th>\n",
       "      <td>[way plug, plug u, u unless, unless go, go converter, way plug u, plug u unless, u unless go, unless go converter]</td>\n",
       "    </tr>\n",
       "    <tr>\n",
       "      <th>1</th>\n",
       "      <td>[excellent value]</td>\n",
       "    </tr>\n",
       "    <tr>\n",
       "      <th>2</th>\n",
       "      <td>[charger conversation, conversation lasting, lasting minute, minute major, major problem, charger conversation lasting, conversation lasting minute, lasting minute major, minute major problem]</td>\n",
       "    </tr>\n",
       "    <tr>\n",
       "      <th>3</th>\n",
       "      <td>[]</td>\n",
       "    </tr>\n",
       "    <tr>\n",
       "      <th>4</th>\n",
       "      <td>[jiggle plug, plug get, get line, line right, right get, get decent, decent volume, jiggle plug get, plug get line, get line right, line right get, right get decent, get decent volume]</td>\n",
       "    </tr>\n",
       "  </tbody>\n",
       "</table>\n",
       "</div>"
      ],
      "text/plain": [
       "                                                                                                                                                                                              grams\n",
       "0  [way plug, plug u, u unless, unless go, go converter, way plug u, plug u unless, u unless go, unless go converter]                                                                              \n",
       "1  [excellent value]                                                                                                                                                                               \n",
       "2  [charger conversation, conversation lasting, lasting minute, minute major, major problem, charger conversation lasting, conversation lasting minute, lasting minute major, minute major problem]\n",
       "3  []                                                                                                                                                                                              \n",
       "4  [jiggle plug, plug get, get line, line right, right get, get decent, decent volume, jiggle plug get, plug get line, get line right, line right get, right get decent, get decent volume]        "
      ]
     },
     "execution_count": 160,
     "metadata": {},
     "output_type": "execute_result"
    }
   ],
   "source": [
    "from nltk import ngrams\n",
    "def ngrams(input_list):\n",
    "    #onegrams = input_list\n",
    "    bigrams = [' '.join(t) for t in list(zip(input_list, input_list[1:]))]\n",
    "    trigrams = [' '.join(t) for t in list(zip(input_list, input_list[1:], input_list[2:]))]\n",
    "    return bigrams+trigrams\n",
    "tweets['grams'] = tweets.normalized_tweet.apply(ngrams)\n",
    "tweets[['grams']].head()"
   ]
  },
  {
   "cell_type": "code",
   "execution_count": 161,
   "metadata": {},
   "outputs": [],
   "source": [
    "import collections\n",
    "def count_words(input):\n",
    "    cnt = collections.Counter()\n",
    "    for row in input:\n",
    "        for word in row:\n",
    "            cnt[word] += 1\n",
    "    return cnt"
   ]
  },
  {
   "cell_type": "code",
   "execution_count": 162,
   "metadata": {},
   "outputs": [],
   "source": [
    "import numpy as np\n",
    "from scipy.sparse import hstack\n",
    "from sklearn.feature_extraction.text import CountVectorizer\n",
    "count_vectorizer = CountVectorizer(ngram_range=(1,3))"
   ]
  },
  {
   "cell_type": "code",
   "execution_count": 163,
   "metadata": {},
   "outputs": [
    {
     "data": {
      "text/plain": [
       "['count_vectBig.sav']"
      ]
     },
     "execution_count": 163,
     "metadata": {},
     "output_type": "execute_result"
    }
   ],
   "source": [
    "import joblib\n",
    "file = 'count_vectBig.sav'\n",
    "joblib.dump(count_vectorizer, file)"
   ]
  },
  {
   "cell_type": "code",
   "execution_count": 164,
   "metadata": {},
   "outputs": [],
   "source": [
    "vectorized_data = count_vectorizer.fit_transform(tweets.tweet_text.astype(str))\n",
    "indexed_data = hstack((np.array(range(0,vectorized_data.shape[0]))[:,None], vectorized_data))"
   ]
  },
  {
   "cell_type": "code",
   "execution_count": 165,
   "metadata": {},
   "outputs": [
    {
     "data": {
      "text/plain": [
       "(9930, 4)"
      ]
     },
     "execution_count": 165,
     "metadata": {},
     "output_type": "execute_result"
    }
   ],
   "source": [
    "tweets.shape"
   ]
  },
  {
   "cell_type": "code",
   "execution_count": 166,
   "metadata": {},
   "outputs": [
    {
     "data": {
      "text/plain": [
       "(9930, 4)"
      ]
     },
     "execution_count": 166,
     "metadata": {},
     "output_type": "execute_result"
    }
   ],
   "source": [
    "tweets = tweets[tweets.tweet_emotion != 'I can\\'t tell']\n",
    "tweets.shape"
   ]
  },
  {
   "cell_type": "code",
   "execution_count": 167,
   "metadata": {},
   "outputs": [
    {
     "data": {
      "text/html": [
       "<div>\n",
       "<style scoped>\n",
       "    .dataframe tbody tr th:only-of-type {\n",
       "        vertical-align: middle;\n",
       "    }\n",
       "\n",
       "    .dataframe tbody tr th {\n",
       "        vertical-align: top;\n",
       "    }\n",
       "\n",
       "    .dataframe thead th {\n",
       "        text-align: right;\n",
       "    }\n",
       "</style>\n",
       "<table border=\"1\" class=\"dataframe\">\n",
       "  <thead>\n",
       "    <tr style=\"text-align: right;\">\n",
       "      <th></th>\n",
       "      <th>tweet_text</th>\n",
       "      <th>tweet_emotion</th>\n",
       "      <th>normalized_tweet</th>\n",
       "      <th>grams</th>\n",
       "    </tr>\n",
       "  </thead>\n",
       "  <tbody>\n",
       "    <tr>\n",
       "      <th>0</th>\n",
       "      <td>So there is no way for me to plug it in here in the US unless I go by a converter.</td>\n",
       "      <td>Negative emotion</td>\n",
       "      <td>[way, plug, u, unless, go, converter]</td>\n",
       "      <td>[way plug, plug u, u unless, unless go, go converter, way plug u, plug u unless, u unless go, unless go converter]</td>\n",
       "    </tr>\n",
       "    <tr>\n",
       "      <th>1</th>\n",
       "      <td>Good case  Excellent value.</td>\n",
       "      <td>Positive emotion</td>\n",
       "      <td>[excellent, value]</td>\n",
       "      <td>[excellent value]</td>\n",
       "    </tr>\n",
       "    <tr>\n",
       "      <th>2</th>\n",
       "      <td>Tied to charger for conversations lasting more than 45 minutes.MAJOR PROBLEMS!!</td>\n",
       "      <td>Negative emotion</td>\n",
       "      <td>[charger, conversation, lasting, minute, major, problem]</td>\n",
       "      <td>[charger conversation, conversation lasting, lasting minute, minute major, major problem, charger conversation lasting, conversation lasting minute, lasting minute major, minute major problem]</td>\n",
       "    </tr>\n",
       "    <tr>\n",
       "      <th>3</th>\n",
       "      <td>The mic is great.</td>\n",
       "      <td>Positive emotion</td>\n",
       "      <td>[great]</td>\n",
       "      <td>[]</td>\n",
       "    </tr>\n",
       "    <tr>\n",
       "      <th>4</th>\n",
       "      <td>I have to jiggle the plug to get it to line up right to get decent volume.</td>\n",
       "      <td>Negative emotion</td>\n",
       "      <td>[jiggle, plug, get, line, right, get, decent, volume]</td>\n",
       "      <td>[jiggle plug, plug get, get line, line right, right get, get decent, decent volume, jiggle plug get, plug get line, get line right, line right get, right get decent, get decent volume]</td>\n",
       "    </tr>\n",
       "  </tbody>\n",
       "</table>\n",
       "</div>"
      ],
      "text/plain": [
       "                                                                           tweet_text  \\\n",
       "0  So there is no way for me to plug it in here in the US unless I go by a converter.   \n",
       "1  Good case  Excellent value.                                                          \n",
       "2  Tied to charger for conversations lasting more than 45 minutes.MAJOR PROBLEMS!!      \n",
       "3  The mic is great.                                                                    \n",
       "4  I have to jiggle the plug to get it to line up right to get decent volume.           \n",
       "\n",
       "      tweet_emotion                                          normalized_tweet  \\\n",
       "0  Negative emotion  [way, plug, u, unless, go, converter]                      \n",
       "1  Positive emotion  [excellent, value]                                         \n",
       "2  Negative emotion  [charger, conversation, lasting, minute, major, problem]   \n",
       "3  Positive emotion  [great]                                                    \n",
       "4  Negative emotion  [jiggle, plug, get, line, right, get, decent, volume]      \n",
       "\n",
       "                                                                                                                                                                                              grams  \n",
       "0  [way plug, plug u, u unless, unless go, go converter, way plug u, plug u unless, u unless go, unless go converter]                                                                                \n",
       "1  [excellent value]                                                                                                                                                                                 \n",
       "2  [charger conversation, conversation lasting, lasting minute, minute major, major problem, charger conversation lasting, conversation lasting minute, lasting minute major, minute major problem]  \n",
       "3  []                                                                                                                                                                                                \n",
       "4  [jiggle plug, plug get, get line, line right, right get, get decent, decent volume, jiggle plug get, plug get line, get line right, line right get, right get decent, get decent volume]          "
      ]
     },
     "execution_count": 167,
     "metadata": {},
     "output_type": "execute_result"
    }
   ],
   "source": [
    "tweets.head(5)"
   ]
  },
  {
   "cell_type": "code",
   "execution_count": 168,
   "metadata": {},
   "outputs": [],
   "source": [
    "def sentiment2target(sentiment):\n",
    "    return {\n",
    "        #'1': 0,\n",
    "        'Negative emotion': 0,\n",
    "        'No emotion toward brand or product': 1,\n",
    "        #'I can\\'t tell': 1,\n",
    "        'Positive emotion' : 2,\n",
    "        #1: 0,\n",
    "        #'3': 1,\n",
    "        #'5': 2,\n",
    "        #'not_relevant': 1,\n",
    "    }[sentiment]\n",
    "targets = tweets.tweet_emotion.apply(sentiment2target)"
   ]
  },
  {
   "cell_type": "code",
   "execution_count": 169,
   "metadata": {},
   "outputs": [
    {
     "data": {
      "text/plain": [
       "(9930,)"
      ]
     },
     "execution_count": 169,
     "metadata": {},
     "output_type": "execute_result"
    }
   ],
   "source": [
    "targets.shape"
   ]
  },
  {
   "cell_type": "code",
   "execution_count": 174,
   "metadata": {},
   "outputs": [],
   "source": [
    "from sklearn.model_selection import train_test_split\n",
    "data_train, data_test, targets_train, targets_test = train_test_split(indexed_data, targets, test_size=0.2, random_state=0)\n",
    "data_train_index = data_train[:,0]\n",
    "data_train = data_train[:,1:]\n",
    "data_test_index = data_test[:,0]\n",
    "data_test = data_test[:,1:]"
   ]
  },
  {
   "cell_type": "code",
   "execution_count": 175,
   "metadata": {},
   "outputs": [],
   "source": [
    "from sklearn import svm\n",
    "from sklearn.multiclass import OneVsRestClassifier\n",
    "clf = OneVsRestClassifier(svm.SVC(gamma=0.01, C=10., probability=True, class_weight='balanced', kernel='linear'))\n",
    "clf_output = clf.fit(data_train, targets_train)"
   ]
  },
  {
   "cell_type": "code",
   "execution_count": 176,
   "metadata": {},
   "outputs": [
    {
     "data": {
      "text/plain": [
       "0.6928499496475328"
      ]
     },
     "execution_count": 176,
     "metadata": {},
     "output_type": "execute_result"
    }
   ],
   "source": [
    "clf.score(data_test, targets_test)"
   ]
  },
  {
   "cell_type": "code",
   "execution_count": 177,
   "metadata": {},
   "outputs": [
    {
     "data": {
      "text/plain": [
       "['trained_modelBig.sav']"
      ]
     },
     "execution_count": 177,
     "metadata": {},
     "output_type": "execute_result"
    }
   ],
   "source": [
    "file = 'trained_modelBig.sav'\n",
    "joblib.dump(clf, file)"
   ]
  },
  {
   "cell_type": "code",
   "execution_count": 178,
   "metadata": {},
   "outputs": [
    {
     "data": {
      "text/plain": [
       "9930"
      ]
     },
     "execution_count": 178,
     "metadata": {},
     "output_type": "execute_result"
    }
   ],
   "source": [
    "targets.shape[0]"
   ]
  },
  {
   "cell_type": "code",
   "execution_count": 181,
   "metadata": {},
   "outputs": [
    {
     "data": {
      "text/plain": [
       "(9930,)"
      ]
     },
     "execution_count": 181,
     "metadata": {},
     "output_type": "execute_result"
    }
   ],
   "source": [
    "targets.shape"
   ]
  },
  {
   "cell_type": "code",
   "execution_count": 182,
   "metadata": {},
   "outputs": [
    {
     "data": {
      "text/plain": [
       "0        0\n",
       "1        2\n",
       "2        0\n",
       "3        2\n",
       "4        0\n",
       "5        0\n",
       "6        0\n",
       "7        0\n",
       "8        2\n",
       "9        2\n",
       "10       0\n",
       "11       2\n",
       "12       0\n",
       "13       2\n",
       "14       0\n",
       "15       2\n",
       "16       2\n",
       "17       0\n",
       "18       0\n",
       "19       2\n",
       "20       0\n",
       "21       2\n",
       "22       0\n",
       "23       2\n",
       "24       2\n",
       "25       0\n",
       "26       0\n",
       "27       0\n",
       "28       0\n",
       "29       2\n",
       "        ..\n",
       "10054    1\n",
       "10056    1\n",
       "10057    2\n",
       "10058    2\n",
       "10059    1\n",
       "10060    2\n",
       "10061    2\n",
       "10062    1\n",
       "10064    1\n",
       "10065    1\n",
       "10066    1\n",
       "10067    2\n",
       "10068    2\n",
       "10069    2\n",
       "10070    1\n",
       "10071    1\n",
       "10072    2\n",
       "10073    1\n",
       "10074    2\n",
       "10075    0\n",
       "10076    1\n",
       "10077    1\n",
       "10078    1\n",
       "10079    2\n",
       "10080    1\n",
       "10081    1\n",
       "10082    2\n",
       "10083    1\n",
       "10084    1\n",
       "10085    1\n",
       "Name: tweet_emotion, Length: 9930, dtype: int64"
      ]
     },
     "execution_count": 182,
     "metadata": {},
     "output_type": "execute_result"
    }
   ],
   "source": [
    "targets"
   ]
  },
  {
   "cell_type": "code",
   "execution_count": 179,
   "metadata": {},
   "outputs": [
    {
     "data": {
      "text/plain": [
       "10076    1\n",
       "10077    1\n",
       "10078    1\n",
       "10079    2\n",
       "10080    1\n",
       "10081    1\n",
       "10082    2\n",
       "10083    1\n",
       "10084    1\n",
       "10085    1\n",
       "Name: tweet_emotion, dtype: int64"
      ]
     },
     "execution_count": 179,
     "metadata": {},
     "output_type": "execute_result"
    }
   ],
   "source": [
    "targets.tail(10)"
   ]
  },
  {
   "cell_type": "code",
   "execution_count": 180,
   "metadata": {},
   "outputs": [
    {
     "data": {
      "text/plain": [
       "0    0\n",
       "1    2\n",
       "2    0\n",
       "3    2\n",
       "4    0\n",
       "5    0\n",
       "6    0\n",
       "7    0\n",
       "8    2\n",
       "9    2\n",
       "Name: tweet_emotion, dtype: int64"
      ]
     },
     "execution_count": 180,
     "metadata": {},
     "output_type": "execute_result"
    }
   ],
   "source": [
    "targets.head(10)"
   ]
  },
  {
   "cell_type": "code",
   "execution_count": null,
   "metadata": {},
   "outputs": [],
   "source": []
  }
 ],
 "metadata": {
  "kernelspec": {
   "display_name": "Python 3",
   "language": "python",
   "name": "python3"
  },
  "language_info": {
   "codemirror_mode": {
    "name": "ipython",
    "version": 3
   },
   "file_extension": ".py",
   "mimetype": "text/x-python",
   "name": "python",
   "nbconvert_exporter": "python",
   "pygments_lexer": "ipython3",
   "version": "3.7.1"
  }
 },
 "nbformat": 4,
 "nbformat_minor": 2
}
